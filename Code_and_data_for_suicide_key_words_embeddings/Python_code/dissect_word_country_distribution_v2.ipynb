{
 "cells": [
  {
   "cell_type": "markdown",
   "id": "07d32837-2914-409e-8368-799cf279ba84",
   "metadata": {},
   "source": [
    "# This script creates two files: country specific keywords and countries shared keywords where each country has top 20 most frequent keywords. \n",
    "\n",
    "## Keywords have accompanied embedding vectors to visualize the keyword maps in 2D with MDS"
   ]
  },
  {
   "cell_type": "code",
   "execution_count": 1,
   "id": "31512af8-f337-420e-a131-3bc4f0300f73",
   "metadata": {},
   "outputs": [
    {
     "name": "stdout",
     "output_type": "stream",
     "text": [
      "frequent_keywords\t  TOP_KEYWORDS_WITH_GEOINFO_CLEAN.csv\n",
      "frequent_words_to_filter  TOP_KEYWORDS_WITH_GEOINFO_CLEAN.xlsx\n",
      "PREV\t\t\t  vcembdict.json\n",
      "punctuation_to_filter\t  words_and_countries_keep.csv\n",
      "TMP\n"
     ]
    }
   ],
   "source": [
    "!ls Final_datasets/"
   ]
  },
  {
   "cell_type": "code",
   "execution_count": 6,
   "id": "b90d7962-7220-4e81-bf23-ff8cb6ee6831",
   "metadata": {},
   "outputs": [
    {
     "name": "stdout",
     "output_type": "stream",
     "text": [
      "suicide\n",
      "risk\n",
      "prevalence\n",
      "mortality\n",
      "adolescents\n",
      "depression\n",
      "ideation\n",
      "risk_factors\n",
      "behavior\n",
      "mental_health\n",
      "health\n",
      "epidemiology\n",
      "gender\n",
      "trends\n",
      "children\n",
      "rates\n",
      "prevention\n",
      "disorders\n",
      "countries\n",
      "violence\n",
      "youth\n",
      "women\n",
      "suicidal_ideation\n",
      "population\n",
      "association\n",
      "death\n",
      "alcohol\n",
      "care\n",
      "impact\n",
      "gender_differences\n",
      "attitudes\n",
      "symptoms\n",
      "people\n",
      "homicide\n",
      "united_states\n"
     ]
    }
   ],
   "source": [
    "!cat Final_datasets/frequent_words_to_filter"
   ]
  },
  {
   "cell_type": "code",
   "execution_count": 1,
   "id": "00199573-9317-4e1b-bd1b-66be72d65627",
   "metadata": {},
   "outputs": [],
   "source": [
    "import pandas as pd\n",
    "import re\n",
    "words=pd.read_csv(\"Final_datasets/words_and_countries_keep.csv\")\n",
    "countries=pd.read_csv(\"Final_datasets/TOP_KEYWORDS_WITH_GEOINFO_CLEAN.csv\")"
   ]
  },
  {
   "cell_type": "code",
   "execution_count": 2,
   "id": "19b0908a-e7d4-415f-8d4d-8278205ba8dc",
   "metadata": {},
   "outputs": [
    {
     "name": "stdout",
     "output_type": "stream",
     "text": [
      "['suicide', 'risk', 'prevalence', 'mortality', 'adolescents', 'depression', 'ideation', 'risk_factors', 'behavior', 'mental_health', 'health', 'epidemiology', 'gender', 'trends', 'children', 'rates', 'prevention', 'disorders', 'countries', 'violence', 'youth', 'women', 'suicidal_ideation', 'population', 'association', 'death', 'alcohol', 'care', 'impact', 'gender_differences', 'attitudes', 'symptoms', 'people', 'homicide', 'united_states']\n"
     ]
    }
   ],
   "source": [
    "f=open(\"Final_datasets/frequent_words_to_filter\",\"r\")\n",
    "words_to_filter=[]\n",
    "for line in f.readlines():\n",
    "    words_to_filter.append(line.rstrip())\n",
    "\n",
    "print(words_to_filter)"
   ]
  },
  {
   "cell_type": "code",
   "execution_count": 3,
   "id": "f50522ff-32ec-46ec-86bb-e5f6453d4cac",
   "metadata": {},
   "outputs": [
    {
     "name": "stdout",
     "output_type": "stream",
     "text": [
      "   Afghanistan  Albania  Algeria  Argentina  Armenia  Australia  Austria  \\\n",
      "0        105.0      5.0      1.0       11.0      1.0      520.0     55.0   \n",
      "1         68.0      0.0      0.0        5.0      0.0      137.0     16.0   \n",
      "\n",
      "   Azerbaijan  Bahrain  Bangladesh  ...  Burkina_Faso  Sierra_Leone  Gambia  \\\n",
      "0         2.0      2.0        23.0  ...           0.0           0.0     0.0   \n",
      "1         0.0      0.0         9.0  ...           0.0           0.0     0.0   \n",
      "\n",
      "   Eritrea  Sudan  Mauritania  Central_African_Republic  n_countries  \\\n",
      "0      0.0    0.0         0.0                       0.0          137   \n",
      "1      0.0    0.0         0.0                       0.0          102   \n",
      "\n",
      "   word_freq       words  \n",
      "0     7335.0     suicide  \n",
      "1     2915.0  depression  \n",
      "\n",
      "[2 rows x 159 columns]\n",
      "  iso2c iso3c fips10      Country      country  WOS_records Cluster Rate  \\\n",
      "0    AF   AFG     AF  Afghanistan  Afghanistan          303     C10  Low   \n",
      "1    AL   ALB     AL      Albania      Albania           12     C10  Low   \n",
      "\n",
      "   Females_mean  Males_mean  \\\n",
      "0         4.060       4.835   \n",
      "1         4.155       7.545   \n",
      "\n",
      "                           Country_specific_keywords  \\\n",
      "0  survey_sampling, sample_weights, epidemiologic...   \n",
      "1  algeria, agency_theory, kabylie, sociologie, f...   \n",
      "\n",
      "                             Country_shared_keywords  Unnamed: 12 Continent  \\\n",
      "0  posttraumatic_stress_disorder, afghanistan, ir...          NaN      Asia   \n",
      "1  russia, neglect, perestroika, pesticides, east...          NaN    Europe   \n",
      "\n",
      "  Region_un              Region_wb        Subregion  \\\n",
      "0      Asia             South Asia    Southern Asia   \n",
      "1    Europe  Europe & Central Asia  Southern Europe   \n",
      "\n",
      "                     Economy  Latitude  Longitude  \n",
      "0  7. Least developed region   33.9328    65.1810  \n",
      "1       6. Developing region   41.1253    20.0097  \n"
     ]
    }
   ],
   "source": [
    "print(words.head(n=2))\n",
    "print(countries.head(n=2))"
   ]
  },
  {
   "cell_type": "code",
   "execution_count": 4,
   "id": "b1551105-df46-4a72-9a15-81044cddb390",
   "metadata": {},
   "outputs": [],
   "source": [
    "countries_list=countries.country.to_list()"
   ]
  },
  {
   "cell_type": "code",
   "execution_count": 15,
   "id": "be3172e1-9857-48cd-a45e-01ee36478c7f",
   "metadata": {},
   "outputs": [
    {
     "data": {
      "text/plain": [
       "\"\\nsome code snippet\\nc='Russian'\\nfor i,v in enumerate(l):\\n    if re.search(c,v):\\n        break;\\nprint(i,v)\\nprint(dfmain.iloc[i].iso2c)\\n\""
      ]
     },
     "execution_count": 15,
     "metadata": {},
     "output_type": "execute_result"
    }
   ],
   "source": [
    "'''\n",
    "some code snippet\n",
    "c='Russian'\n",
    "for i,v in enumerate(l):\n",
    "    if re.search(c,v):\n",
    "        break;\n",
    "print(i,v)\n",
    "print(dfmain.iloc[i].iso2c)\n",
    "'''"
   ]
  },
  {
   "cell_type": "code",
   "execution_count": 5,
   "id": "dc1ab6c8-bbed-49dd-a752-6225548073a9",
   "metadata": {},
   "outputs": [
    {
     "name": "stdout",
     "output_type": "stream",
     "text": [
      "Index(['Afghanistan', 'Albania', 'Algeria', 'Argentina', 'Armenia',\n",
      "       'Australia', 'Austria', 'Azerbaijan', 'Bahrain', 'Bangladesh',\n",
      "       ...\n",
      "       'Burkina_Faso', 'Sierra_Leone', 'Gambia', 'Eritrea', 'Sudan',\n",
      "       'Mauritania', 'Central_African_Republic', 'n_countries', 'word_freq',\n",
      "       'words'],\n",
      "      dtype='object', length=159)\n"
     ]
    }
   ],
   "source": [
    "columns=words.columns\n",
    "print(columns)"
   ]
  },
  {
   "cell_type": "code",
   "execution_count": 6,
   "id": "29f7fa25-e38f-4cf0-ae5c-a3b5e83be21b",
   "metadata": {},
   "outputs": [
    {
     "name": "stderr",
     "output_type": "stream",
     "text": [
      "/tmp/ipykernel_56846/1305710420.py:8: FutureWarning: Series.__getitem__ treating keys as positions is deprecated. In a future version, integer keys will always be treated as labels (consistent with DataFrame behavior). To access a value by position, use `ser.iloc[pos]`\n",
      "  if v[-1] not in words_to_filter:\n",
      "/tmp/ipykernel_56846/1305710420.py:11: FutureWarning: Series.__getitem__ treating keys as positions is deprecated. In a future version, integer keys will always be treated as labels (consistent with DataFrame behavior). To access a value by position, use `ser.iloc[pos]`\n",
      "  element['keyword']=v[-1]\n",
      "/tmp/ipykernel_56846/1305710420.py:13: FutureWarning: Series.__getitem__ treating keys as positions is deprecated. In a future version, integer keys will always be treated as labels (consistent with DataFrame behavior). To access a value by position, use `ser.iloc[pos]`\n",
      "  element['kwd_in_country']=v[j]\n",
      "/tmp/ipykernel_56846/1305710420.py:14: FutureWarning: Series.__getitem__ treating keys as positions is deprecated. In a future version, integer keys will always be treated as labels (consistent with DataFrame behavior). To access a value by position, use `ser.iloc[pos]`\n",
      "  element['kwd_total']=v[-2]\n",
      "/tmp/ipykernel_56846/1305710420.py:15: FutureWarning: Series.__getitem__ treating keys as positions is deprecated. In a future version, integer keys will always be treated as labels (consistent with DataFrame behavior). To access a value by position, use `ser.iloc[pos]`\n",
      "  element['countries_with_kwd']=v[-3]\n"
     ]
    }
   ],
   "source": [
    "import numpy as np\n",
    "\n",
    "elements=[]\n",
    "\n",
    "for i in words.index:\n",
    "    #print(i)\n",
    "    v=words.iloc[i]\n",
    "    if v[-1] not in words_to_filter:\n",
    "        for j, country in enumerate(columns[:-3]):\n",
    "            element={}\n",
    "            element['keyword']=v[-1]\n",
    "            element['country']=columns[j]\n",
    "            element['kwd_in_country']=v[j]\n",
    "            element['kwd_total']=v[-2]\n",
    "            element['countries_with_kwd']=v[-3]\n",
    "            elements.append(element) \n",
    "        \n",
    "words_and_countries=pd.DataFrame(elements)"
   ]
  },
  {
   "cell_type": "code",
   "execution_count": 7,
   "id": "d45e1d8c-566b-4c8a-bcff-184e3d73fc01",
   "metadata": {},
   "outputs": [
    {
     "name": "stdout",
     "output_type": "stream",
     "text": [
      "(3973788, 5)\n",
      "      keyword      country  kwd_in_country  kwd_total  countries_with_kwd\n",
      "0  euthanasia  Afghanistan             0.0      975.0                  44\n",
      "1  euthanasia      Albania             1.0      975.0                  44\n",
      "2  euthanasia      Algeria             0.0      975.0                  44\n"
     ]
    }
   ],
   "source": [
    "print(words_and_countries.shape)\n",
    "print(words_and_countries.head(n=3))"
   ]
  },
  {
   "cell_type": "code",
   "execution_count": null,
   "id": "be63d248-4124-46b1-920a-f6c4b7cc0362",
   "metadata": {},
   "outputs": [],
   "source": [
    "#was\n",
    "#(3979248, 5)\n",
    "#   keyword      country  kwd_in_country  kwd_total  countries_with_kwd\n",
    "#0  suicide  Afghanistan           105.0     7335.0                 137\n",
    "#1  suicide      Albania             5.0     7335.0                 137\n",
    "#2  suicide      Algeria             1.0     7335.0                 137\n",
    "\n"
   ]
  },
  {
   "cell_type": "markdown",
   "id": "2f4c77db-efae-4a9d-a95b-dd462c5c5257",
   "metadata": {},
   "source": [
    "## Create country specific keywords and country shared keywords"
   ]
  },
  {
   "cell_type": "markdown",
   "id": "fcbd7faa-a508-4082-9075-f3ce507b7340",
   "metadata": {},
   "source": [
    "#### country specific"
   ]
  },
  {
   "cell_type": "code",
   "execution_count": 9,
   "id": "378f6978-646b-4c13-848b-5192cf2ce0e7",
   "metadata": {},
   "outputs": [
    {
     "name": "stdout",
     "output_type": "stream",
     "text": [
      "(15577, 5)\n",
      "                         keyword    country  kwd_in_country  kwd_total  \\\n",
      "231509         western_australia  Australia            13.0       13.0   \n",
      "299260  congenital_abnormalities    Hungary            10.0       10.0   \n",
      "\n",
      "        countries_with_kwd  \n",
      "231509                   1  \n",
      "299260                   1  \n"
     ]
    }
   ],
   "source": [
    "country_specific_kwds=words_and_countries[ (words_and_countries['countries_with_kwd'] == 1) & (words_and_countries['kwd_in_country'] >0 ) ]  \n",
    "print(country_specific_kwds.shape)\n",
    "print( country_specific_kwds.head(n=2))"
   ]
  },
  {
   "cell_type": "markdown",
   "id": "b3d843d3-3250-48b5-a9d5-53813ce625f4",
   "metadata": {},
   "source": [
    "#### country shared"
   ]
  },
  {
   "cell_type": "code",
   "execution_count": 30,
   "id": "4e48d2ab-fc3d-4e6e-a983-16da00ff55d9",
   "metadata": {},
   "outputs": [
    {
     "name": "stdout",
     "output_type": "stream",
     "text": [
      "(14034, 5)\n",
      "      keyword    country  kwd_in_country  kwd_total  countries_with_kwd\n",
      "1  euthanasia    Albania             1.0      975.0                  44\n",
      "5  euthanasia  Australia            45.0      975.0                  44\n"
     ]
    }
   ],
   "source": [
    "#country_shared_kwds=words_and_countries[ (words_and_countries['countries_with_kwd'] > 1) & (words_and_countries['kwd_in_country'] >0 ) ] \n",
    "# countries with keyword at least 120 \n",
    "Ncountries=20\n",
    "country_shared_kwds=words_and_countries[ (words_and_countries['countries_with_kwd'] > Ncountries) & (words_and_countries['kwd_in_country'] >0 ) ]  \n",
    "print(country_shared_kwds.shape)\n",
    "print( country_shared_kwds.head(n=2))"
   ]
  },
  {
   "cell_type": "markdown",
   "id": "e76b76bf-7e7d-441a-a1d7-d8a1587bd92a",
   "metadata": {},
   "source": [
    "#### most frequent keywords"
   ]
  },
  {
   "cell_type": "code",
   "execution_count": 31,
   "id": "e2851900-4a5b-438a-be75-392ce20a0dd0",
   "metadata": {},
   "outputs": [
    {
     "name": "stdout",
     "output_type": "stream",
     "text": [
      "\n",
      "Country specific\n",
      "\n",
      "                                     keyword      country  kwd_in_country  \\\n",
      "country                                                                     \n",
      "Afghanistan 0                survey_sampling  Afghanistan             2.0   \n",
      "            1                 sample_weights  Afghanistan             2.0   \n",
      "            2  epidemiologic_research_design  Afghanistan             2.0   \n",
      "\n",
      "               kwd_total  countries_with_kwd  \n",
      "country                                       \n",
      "Afghanistan 0        2.0                   1  \n",
      "            1        2.0                   1  \n",
      "            2        2.0                   1  \n",
      "(7136, 5)\n",
      "\n",
      "\n",
      "Country shared\n",
      "\n",
      "                                     keyword      country  kwd_in_country  \\\n",
      "country                                                                     \n",
      "Afghanistan 0  posttraumatic_stress_disorder  Afghanistan           123.0   \n",
      "            1                           ptsd  Afghanistan            65.0   \n",
      "            2                       military  Afghanistan            58.0   \n",
      "\n",
      "               kwd_total  countries_with_kwd  \n",
      "country                                       \n",
      "Afghanistan 0      549.0                  51  \n",
      "            1      248.0                  30  \n",
      "            2      233.0                  21  \n",
      "(11124, 5)\n"
     ]
    },
    {
     "name": "stderr",
     "output_type": "stream",
     "text": [
      "/tmp/ipykernel_56846/2557744814.py:3: DeprecationWarning: DataFrameGroupBy.apply operated on the grouping columns. This behavior is deprecated, and in a future version of pandas the grouping columns will be excluded from the operation. Either pass `include_groups=False` to exclude the groupings or explicitly select the grouping columns after groupby to silence this warning.\n",
      "  country_specific_kwds_top=country_specific_kwds.groupby('country').apply(lambda x : x.sort_values(by='kwd_in_country', ascending=False).head(N).reset_index(drop=True))\n",
      "/tmp/ipykernel_56846/2557744814.py:10: DeprecationWarning: DataFrameGroupBy.apply operated on the grouping columns. This behavior is deprecated, and in a future version of pandas the grouping columns will be excluded from the operation. Either pass `include_groups=False` to exclude the groupings or explicitly select the grouping columns after groupby to silence this warning.\n",
      "  country_shared_kwds_top=country_shared_kwds.groupby('country').apply(lambda x : x.sort_values(by='kwd_in_country', ascending=False).head(N).reset_index(drop=True))\n"
     ]
    }
   ],
   "source": [
    "# Select most frequent 20 keywords in that country \n",
    "N=200\n",
    "country_specific_kwds_top=country_specific_kwds.groupby('country').apply(lambda x : x.sort_values(by='kwd_in_country', ascending=False).head(N).reset_index(drop=True))\n",
    "\n",
    "print(\"\\nCountry specific\\n\")\n",
    "print(country_specific_kwds_top.head(n=3))\n",
    "print(country_specific_kwds_top.shape)\n",
    "#country_specific_kwds_top.to_csv(\"country_specific_kwds_top10.csv\" , index=False)\n",
    "\n",
    "country_shared_kwds_top=country_shared_kwds.groupby('country').apply(lambda x : x.sort_values(by='kwd_in_country', ascending=False).head(N).reset_index(drop=True))\n",
    "print(\"\\n\\nCountry shared\\n\")\n",
    "print(country_shared_kwds_top.head(n=3))\n",
    "print(country_shared_kwds_top.shape)"
   ]
  },
  {
   "cell_type": "markdown",
   "id": "688d2553-117b-4897-8bf5-974bc32c6326",
   "metadata": {},
   "source": [
    "#### Keyword counts per country specific and shared"
   ]
  },
  {
   "cell_type": "code",
   "execution_count": 32,
   "id": "4815b26d-3a8a-4c80-b68b-b55dcec9979c",
   "metadata": {},
   "outputs": [
    {
     "name": "stdout",
     "output_type": "stream",
     "text": [
      "\n",
      "Country specific\n",
      "\n",
      "           Country  Keywords\n",
      "120  United_States      3099\n",
      "53         Ireland      2086\n",
      "4        Australia       902\n",
      "22           China       792\n",
      "57           Japan       680\n",
      "20          Canada       670\n",
      "49           India       564\n",
      "39         Germany       438\n",
      "110         Sweden       424\n",
      "37          France       401\n",
      "\n",
      "Country shared\n",
      "\n",
      "           Country  Keywords\n",
      "144  United_States       419\n",
      "62         Ireland       404\n",
      "4        Australia       385\n",
      "22          Canada       381\n",
      "25           China       378\n",
      "66           Japan       355\n",
      "130         Sweden       349\n",
      "47         Germany       338\n",
      "44          France       326\n",
      "94     Netherlands       314\n"
     ]
    }
   ],
   "source": [
    "# country specific\n",
    "country, counts = np.unique(country_specific_kwds['country'] , return_counts=True)\n",
    "sc=pd.DataFrame({'Country': country, 'Keywords': counts}).sort_values(by='Keywords', ascending=False)\n",
    "print(\"\\nCountry specific\\n\")\n",
    "print(sc.head(n=10))\n",
    "# compute keywords - take first 10 most frequent keywords DONE\n",
    "sc.to_csv(\"COUNTRY_SPECIFIC_kwd_counts_per_country.csv\", index=False)\n",
    "\n",
    "# country shared\n",
    "country, counts = np.unique(country_shared_kwds['country'] , return_counts=True)\n",
    "sc=pd.DataFrame({'Country': country, 'Keywords': counts}).sort_values(by='Keywords', ascending=False)\n",
    "print(\"\\nCountry shared\\n\")\n",
    "print(sc.head(n=10))\n",
    "# compute keywords - take first 10 most frequent keywords DONE\n",
    "sc.to_csv(\"COUNTRY_SHARED_kwd_counts_per_country.csv\", index=False)"
   ]
  },
  {
   "cell_type": "markdown",
   "id": "572cadbf-8c16-4916-9c02-680f13aee75f",
   "metadata": {},
   "source": [
    "#### join keywords with embedding vectors \n",
    "##### First read the embedded vectors for the vocabulary"
   ]
  },
  {
   "cell_type": "code",
   "execution_count": 33,
   "id": "a680e1a2-96ca-49da-9523-34283cad3977",
   "metadata": {},
   "outputs": [
    {
     "name": "stdout",
     "output_type": "stream",
     "text": [
      "      keyword        d1        d2        d3        d4        d5        d6  \\\n",
      "0       [UNK]  0.028035 -0.015649  0.039508  0.025291 -0.036444  0.004411   \n",
      "1     suicide -0.020757 -0.154952 -0.092094 -0.027190  0.033187 -0.049337   \n",
      "2  depression -0.000923  0.014103  0.033632 -0.021265  0.136349 -0.072346   \n",
      "\n",
      "         d7        d8        d9  ...      d291      d292      d293      d294  \\\n",
      "0  0.015542 -0.025010 -0.040383  ... -0.021830  0.049336 -0.009125 -0.017346   \n",
      "1  0.037932  0.119244  0.222223  ... -0.028367  0.073886 -0.081732 -0.037270   \n",
      "2  0.120390  0.034528  0.054757  ...  0.005564  0.055451  0.003675  0.108234   \n",
      "\n",
      "       d295      d296      d297      d298      d299      d300  \n",
      "0  0.049276  0.013652 -0.017520 -0.011965 -0.000815 -0.034672  \n",
      "1  0.063090 -0.064993 -0.079454 -0.009388  0.173910 -0.040423  \n",
      "2 -0.134659 -0.051812  0.065626 -0.039660 -0.033822  0.031228  \n",
      "\n",
      "[3 rows x 301 columns]\n"
     ]
    }
   ],
   "source": [
    "import json\n",
    "file='Final_datasets/embedded_vectors.json'\n",
    "\n",
    "#with open(file, 'w') as f: \n",
    "#    json.dump(embedded_vectors, f)\n",
    "\n",
    "# Read the embedded vectors for vocabulary \n",
    "# How to read it from json file\n",
    "with open(file, 'r') as f:\n",
    "    embedded_vectors = json.load(f)\n",
    "\n",
    "embedded_vectors_df=pd.DataFrame(embedded_vectors).T.reset_index()\n",
    "# add column names\n",
    "n=['keyword']+['d'+str(x+1) for x in range(300)]\n",
    "embedded_vectors_df.columns=n\n",
    "print(embedded_vectors_df.head(n=3))"
   ]
  },
  {
   "cell_type": "markdown",
   "id": "5555d8b5-1fc2-4b34-a51b-a78c898b2247",
   "metadata": {},
   "source": [
    "#### join words file on keyword with the embedded vectors and then with the information on country"
   ]
  },
  {
   "cell_type": "markdown",
   "id": "b5a304de-c385-4162-be0b-065a4012ff4c",
   "metadata": {},
   "source": [
    "#### countries dataframe"
   ]
  },
  {
   "cell_type": "code",
   "execution_count": 34,
   "id": "e555e9c1-72d1-42c5-9657-bf011c6d4c88",
   "metadata": {},
   "outputs": [
    {
     "name": "stdout",
     "output_type": "stream",
     "text": [
      "  iso2c iso3c fips10      Country      country  WOS_records Cluster Rate  \\\n",
      "0    AF   AFG     AF  Afghanistan  Afghanistan          303     C10  Low   \n",
      "1    AL   ALB     AL      Albania      Albania           12     C10  Low   \n",
      "\n",
      "   Females_mean  Males_mean  Unnamed: 12 Continent Region_un  \\\n",
      "0         4.060       4.835          NaN      Asia      Asia   \n",
      "1         4.155       7.545          NaN    Europe    Europe   \n",
      "\n",
      "               Region_wb        Subregion                    Economy  \\\n",
      "0             South Asia    Southern Asia  7. Least developed region   \n",
      "1  Europe & Central Asia  Southern Europe       6. Developing region   \n",
      "\n",
      "   Latitude  Longitude  \n",
      "0   33.9328    65.1810  \n",
      "1   41.1253    20.0097  \n"
     ]
    }
   ],
   "source": [
    "# prepare countries dataframe\n",
    "clust_cols=countries.drop(columns=['Country_specific_keywords', 'Country_shared_keywords'] )\n",
    "print(clust_cols.head(n=2))"
   ]
  },
  {
   "cell_type": "markdown",
   "id": "37a2a5bd-1180-4f82-a26a-752e5e4a7037",
   "metadata": {},
   "source": [
    "#### words dataframes country specific and country shared"
   ]
  },
  {
   "cell_type": "code",
   "execution_count": 35,
   "id": "6caaa6c2-1ea5-4149-8cbc-70e64d628ce4",
   "metadata": {},
   "outputs": [
    {
     "name": "stdout",
     "output_type": "stream",
     "text": [
      "\n",
      "Country specific\n",
      "\n",
      "           keyword      country  kwd_in_country  kwd_total\n",
      "0  survey_sampling  Afghanistan             2.0        2.0\n",
      "1   sample_weights  Afghanistan             2.0        2.0\n",
      "\n",
      "Country shared\n",
      "\n",
      "                         keyword      country  kwd_in_country  kwd_total\n",
      "0  posttraumatic_stress_disorder  Afghanistan           123.0      549.0\n",
      "1                           ptsd  Afghanistan            65.0      248.0\n"
     ]
    }
   ],
   "source": [
    "import io\n",
    "import array\n",
    "\n",
    "# country specific\n",
    "# for keyword in each line find a corresponding embedded vector and write it to file \n",
    "cp_specific=country_specific_kwds_top.copy().reset_index(drop=True, allow_duplicates=True)\n",
    "cp_specific.drop(columns=['countries_with_kwd'], inplace=True)\n",
    "\n",
    "print(\"\\nCountry specific\\n\")\n",
    "print(cp_specific.head(n=2))\n",
    "\n",
    "\n",
    "# for keyword in each line find a corresponding embedded vector and write it to file \n",
    "cp_shared=country_shared_kwds_top.copy().reset_index(drop=True, allow_duplicates=True)\n",
    "cp_shared.drop(columns=['countries_with_kwd'], inplace=True)\n",
    "\n",
    "print(\"\\nCountry shared\\n\")\n",
    "print(cp_shared.head(n=2))"
   ]
  },
  {
   "cell_type": "markdown",
   "id": "a8996dd6-dd0f-46f0-9952-0245964caf86",
   "metadata": {},
   "source": [
    "#### merge all dataframes"
   ]
  },
  {
   "cell_type": "code",
   "execution_count": 36,
   "id": "5c55d855-e9c5-4900-b725-903ddb791353",
   "metadata": {},
   "outputs": [
    {
     "name": "stdout",
     "output_type": "stream",
     "text": [
      "           keyword      country  kwd_in_country  kwd_total        d1  \\\n",
      "0  survey_sampling  Afghanistan             2.0        2.0  0.023013   \n",
      "1   sample_weights  Afghanistan             2.0        2.0 -0.005720   \n",
      "\n",
      "         d2        d3        d4        d5        d6  ...  Rate  Females_mean  \\\n",
      "0 -0.040507 -0.022095 -0.019781 -0.050438  0.000409  ...   Low          4.06   \n",
      "1 -0.000229 -0.008355  0.000177  0.017858  0.033012  ...   Low          4.06   \n",
      "\n",
      "   Males_mean  Continent  Region_un   Region_wb      Subregion  \\\n",
      "0       4.835       Asia       Asia  South Asia  Southern Asia   \n",
      "1       4.835       Asia       Asia  South Asia  Southern Asia   \n",
      "\n",
      "                     Economy  Latitude  Longitude  \n",
      "0  7. Least developed region   33.9328     65.181  \n",
      "1  7. Least developed region   33.9328     65.181  \n",
      "\n",
      "[2 rows x 320 columns]\n",
      "                         keyword      country  kwd_in_country  kwd_total  \\\n",
      "0  posttraumatic_stress_disorder  Afghanistan           123.0      549.0   \n",
      "1                           ptsd  Afghanistan            65.0      248.0   \n",
      "\n",
      "        d1        d2        d3        d4        d5        d6  ...  Rate  \\\n",
      "0  0.03271 -0.254380 -0.121766 -0.083552  0.185657  0.067837  ...   Low   \n",
      "1  0.02150 -0.097545  0.075656 -0.012125  0.177184  0.112268  ...   Low   \n",
      "\n",
      "   Females_mean  Males_mean  Continent  Region_un   Region_wb      Subregion  \\\n",
      "0          4.06       4.835       Asia       Asia  South Asia  Southern Asia   \n",
      "1          4.06       4.835       Asia       Asia  South Asia  Southern Asia   \n",
      "\n",
      "                     Economy  Latitude  Longitude  \n",
      "0  7. Least developed region   33.9328     65.181  \n",
      "1  7. Least developed region   33.9328     65.181  \n",
      "\n",
      "[2 rows x 320 columns]\n"
     ]
    }
   ],
   "source": [
    "# join data frames\n",
    "# country specific\n",
    "suffix=\"top200\"\n",
    "cp1=pd.merge(left=cp_specific, right=embedded_vectors_df, on='keyword')\n",
    "country_specific_keywords_and_vectors=pd.merge(left=cp1, right=clust_cols, on='country')\n",
    "country_specific_keywords_and_vectors.drop(columns='Unnamed: 12', inplace=True)\n",
    "print(country_specific_keywords_and_vectors.head(n=2))\n",
    "\n",
    "\n",
    "country_specific_keywords_and_vectors.to_csv(\"COUNTRY_SPECIFIC_keywords_and_vectors_\"+suffix+\".csv\", index=False)\n",
    "\n",
    "# country shared\n",
    "cp2=pd.merge(left=cp_shared, right=embedded_vectors_df, on='keyword')\n",
    "country_shared_keywords_and_vectors=pd.merge(left=cp2, right=clust_cols, on='country')\n",
    "country_shared_keywords_and_vectors.drop(columns='Unnamed: 12', inplace=True)\n",
    "print(country_shared_keywords_and_vectors.head(n=2))\n",
    "\n",
    "country_shared_keywords_and_vectors.to_csv(\"COUNTRY_SHARED_keywords_and_vectors_\"+suffix+\".csv\", index=False)\n"
   ]
  },
  {
   "cell_type": "code",
   "execution_count": 56,
   "id": "885bbf6b-5607-478e-a285-bea1bbf4594e",
   "metadata": {},
   "outputs": [
    {
     "data": {
      "text/plain": [
       "'\\ncnames=pd.unique(country_specific_keywords_and_vectors[\"Cluster\"])\\nfor cname in cnames:\\n    fname=cname+\"_COUNTRY_SPECIFIC_KEYWORDS.csv\"\\n    cdf=country_specific_keywords_and_vectors[country_specific_keywords_and_vectors[\"Cluster\"]==cname]\\n    print(fname, cdf.shape)\\n    cdf.to_csv(fname, index=False)\\n'"
      ]
     },
     "execution_count": 56,
     "metadata": {},
     "output_type": "execute_result"
    }
   ],
   "source": [
    "## subdivision by cluster, upon the need\n",
    "'''\n",
    "cnames=pd.unique(country_specific_keywords_and_vectors[\"Cluster\"])\n",
    "for cname in cnames:\n",
    "    fname=cname+\"_COUNTRY_SPECIFIC_KEYWORDS.csv\"\n",
    "    cdf=country_specific_keywords_and_vectors[country_specific_keywords_and_vectors[\"Cluster\"]==cname]\n",
    "    print(fname, cdf.shape)\n",
    "    cdf.to_csv(fname, index=False)\n",
    "'''"
   ]
  }
 ],
 "metadata": {
  "kernelspec": {
   "display_name": "Python 3 (ipykernel)",
   "language": "python",
   "name": "python3"
  },
  "language_info": {
   "codemirror_mode": {
    "name": "ipython",
    "version": 3
   },
   "file_extension": ".py",
   "mimetype": "text/x-python",
   "name": "python",
   "nbconvert_exporter": "python",
   "pygments_lexer": "ipython3",
   "version": "3.11.6"
  }
 },
 "nbformat": 4,
 "nbformat_minor": 5
}
