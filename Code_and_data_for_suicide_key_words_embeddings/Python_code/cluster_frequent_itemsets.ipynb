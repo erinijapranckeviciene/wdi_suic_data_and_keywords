{
 "cells": [
  {
   "cell_type": "markdown",
   "id": "aa899516-4933-4c85-847a-3b3158b3d6a1",
   "metadata": {},
   "source": [
    "# Association rules mining to find frequent keyword sets in clusters"
   ]
  },
  {
   "cell_type": "markdown",
   "id": "5fe02b8a-a958-43d3-bade-359773fc2f97",
   "metadata": {},
   "source": [
    "### Import libraries"
   ]
  },
  {
   "cell_type": "code",
   "execution_count": 22,
   "id": "4ab87cdf-5f6a-4ee1-b696-a1e124f5fcac",
   "metadata": {},
   "outputs": [],
   "source": [
    "import pandas as pd\n",
    "from mlxtend.preprocessing import TransactionEncoder\n",
    "from mlxtend.frequent_patterns import apriori, fpmax, fpgrowth\n",
    "\n",
    "import glob"
   ]
  },
  {
   "cell_type": "markdown",
   "id": "8e7efbdb-e700-4974-99d0-972b2244ccdb",
   "metadata": {},
   "source": [
    "### Make keyword dataset for each cluster\n",
    "Each data set is list of lists. Keywords of one article is a list. "
   ]
  },
  {
   "cell_type": "code",
   "execution_count": null,
   "id": "a7a39b37-5921-46a3-b47b-59ead1f2cfb0",
   "metadata": {},
   "outputs": [],
   "source": [
    "# Example of the dataset\n",
    "#dataset = [['Milk', 'Onion', 'Nutmeg', 'Kidney Beans', 'Eggs', 'Yogurt'],\n",
    "#           ['Dill', 'Onion', 'Nutmeg', 'Kidney Beans', 'Eggs', 'Yogurt'],\n",
    "#           ['Milk', 'Apple', 'Kidney Beans', 'Eggs'],\n",
    "#           ['Milk', 'Unicorn', 'Corn', 'Kidney Beans', 'Yogurt'],\n",
    "#           ['Corn', 'Onion', 'Onion', 'Kidney Beans', 'Ice cream', 'Eggs']]"
   ]
  },
  {
   "cell_type": "markdown",
   "id": "31de6997-cc46-4569-9b54-17e2ebb241ff",
   "metadata": {},
   "source": [
    "#### Paths to files for each cluster "
   ]
  },
  {
   "cell_type": "code",
   "execution_count": 23,
   "id": "597a7185-222b-4a9b-8efe-e18a59c9cb76",
   "metadata": {},
   "outputs": [
    {
     "name": "stdout",
     "output_type": "stream",
     "text": [
      "['/home/erin/JUDITA/mdpi_sustainability/PAPER_DATA/Web_of_Science_records/C4_clust/Keywords/', '/home/erin/JUDITA/mdpi_sustainability/PAPER_DATA/Web_of_Science_records/C10_clust/Keywords/', '/home/erin/JUDITA/mdpi_sustainability/PAPER_DATA/Web_of_Science_records/C9_clust/Keywords/', '/home/erin/JUDITA/mdpi_sustainability/PAPER_DATA/Web_of_Science_records/C5_clust/Keywords/', '/home/erin/JUDITA/mdpi_sustainability/PAPER_DATA/Web_of_Science_records/C8_clust/Keywords/', '/home/erin/JUDITA/mdpi_sustainability/PAPER_DATA/Web_of_Science_records/C1_clust/Keywords/', '/home/erin/JUDITA/mdpi_sustainability/PAPER_DATA/Web_of_Science_records/C6_clust/Keywords/', '/home/erin/JUDITA/mdpi_sustainability/PAPER_DATA/Web_of_Science_records/C7_clust/Keywords/', '/home/erin/JUDITA/mdpi_sustainability/PAPER_DATA/Web_of_Science_records/C2_clust/Keywords/']\n"
     ]
    }
   ],
   "source": [
    "dname='/home/erin/JUDITA/mdpi_sustainability/PAPER_DATA/Web_of_Science_records/'\n",
    "clust_dirs=glob.glob(dname+\"*_clust/Keywords/\")\n",
    "print(clust_dirs)"
   ]
  },
  {
   "cell_type": "markdown",
   "id": "e2e595ef-efd0-414b-b9e0-60fdb2400bbd",
   "metadata": {},
   "source": [
    "#### Prepare dataset for each cluster by reading keywords from each country\n",
    "Create lists of keywords for each cluster"
   ]
  },
  {
   "cell_type": "code",
   "execution_count": 24,
   "id": "5e1acd32-df7f-41dc-a060-4cc041a4f19e",
   "metadata": {},
   "outputs": [],
   "source": [
    "datasets={}\n",
    "for ddir in clust_dirs:\n",
    "    clust_name=ddir.split('/')[-3]\n",
    "    #print(clust_name)\n",
    "    clust_keywords=[]\n",
    "    country_keyword_files=glob.glob(ddir+\"*.txt\")\n",
    "    #print(files)\n",
    "    for country_keyword_file in country_keyword_files:\n",
    "        with open(country_keyword_file,\"r\") as f:\n",
    "            lines=f.readlines()\n",
    "\n",
    "        for line in lines:\n",
    "            keywords=line.rstrip().split(' ')\n",
    "            clust_keywords.append(keywords)\n",
    "\n",
    "    datasets[clust_name]=clust_keywords"
   ]
  },
  {
   "cell_type": "markdown",
   "id": "338dec6e-ff52-4a40-a8e0-f404917dfa21",
   "metadata": {},
   "source": [
    "#### Compute frequent itemsets for each cluster"
   ]
  },
  {
   "cell_type": "code",
   "execution_count": 25,
   "id": "b0ddad4e-d34d-4dba-90d6-73b05ddfb68e",
   "metadata": {},
   "outputs": [
    {
     "name": "stdout",
     "output_type": "stream",
     "text": [
      "dict_keys(['C4_clust', 'C10_clust', 'C9_clust', 'C5_clust', 'C8_clust', 'C1_clust', 'C6_clust', 'C7_clust', 'C2_clust'])\n"
     ]
    }
   ],
   "source": [
    "clust_names=datasets.keys()\n",
    "print(clust_names)"
   ]
  },
  {
   "cell_type": "code",
   "execution_count": 26,
   "id": "e66a301c-9f13-4d30-abc3-4a41cd53b1e1",
   "metadata": {},
   "outputs": [],
   "source": [
    "def get_frequent_itemsets(dataset, min_support=0.5):\n",
    "    te = TransactionEncoder()\n",
    "    te_ary = te.fit(dataset).transform(dataset)\n",
    "    df = pd.DataFrame(te_ary, columns=te.columns_)\n",
    "    frequent_itemsets = fpgrowth(df, min_support=min_support, use_colnames=True)\n",
    "    return frequent_itemsets"
   ]
  },
  {
   "cell_type": "markdown",
   "id": "4711bd45-196a-4c0a-b23a-7ae27bdc073e",
   "metadata": {},
   "source": [
    "##### Print frequent itemsets for each cluster. \n",
    "###### Support is different in each cluster. Lower support gives more itemsets. "
   ]
  },
  {
   "cell_type": "markdown",
   "id": "ff7ed771-3aff-44db-b884-044b1cdd407a",
   "metadata": {},
   "source": [
    "##### C2 cluster"
   ]
  },
  {
   "cell_type": "code",
   "execution_count": 47,
   "id": "48376d41-13a9-4473-ada9-0eafd80a03b6",
   "metadata": {},
   "outputs": [
    {
     "name": "stdout",
     "output_type": "stream",
     "text": [
      "     support                      itemsets\n",
      "0   0.390102                     (suicide)\n",
      "1   0.105531                        (risk)\n",
      "2   0.094614                  (prevalence)\n",
      "3   0.061863                (epidemiology)\n",
      "4   0.096798                       (rates)\n",
      "5   0.089520                    (behavior)\n",
      "6   0.067686                      (health)\n",
      "7   0.052402                   (attitudes)\n",
      "8   0.126638                   (mortality)\n",
      "9   0.053857                      (trends)\n",
      "10  0.166667                  (depression)\n",
      "11  0.069869                    (ideation)\n",
      "12  0.098253                (risk-factors)\n",
      "13  0.056041                   (disorders)\n",
      "14  0.080058                  (prevention)\n",
      "15  0.053857                 (netherlands)\n",
      "16  0.054585                 (adolescents)\n",
      "17  0.092431                  (euthanasia)\n",
      "18  0.077147                       (death)\n",
      "19  0.155022                       (japan)\n",
      "20  0.061135  (physician-assisted_suicide)\n",
      "21  0.058224                     (belgium)\n",
      "22  0.061135          (suicide, mortality)\n",
      "23  0.078603         (suicide, depression)\n",
      "24  0.083697              (suicide, japan)\n"
     ]
    }
   ],
   "source": [
    "dataset=datasets['C2_clust']\n",
    "itemsets=get_frequent_itemsets(dataset,min_support=0.05)\n",
    "print(itemsets)"
   ]
  },
  {
   "cell_type": "markdown",
   "id": "e8fe4cc3-1e60-430d-8aa2-a6743d41e252",
   "metadata": {},
   "source": [
    "##### C4 cluster"
   ]
  },
  {
   "cell_type": "code",
   "execution_count": 60,
   "id": "1b0336cf-c0b5-413f-9200-c60041e88094",
   "metadata": {},
   "outputs": [
    {
     "name": "stdout",
     "output_type": "stream",
     "text": [
      "   support                 itemsets\n",
      "0   0.5000                (suicide)\n",
      "1   0.5000                 (guyana)\n",
      "2   0.2500               (behavior)\n",
      "3   0.1875            (adolescents)\n",
      "4   0.1875        (suicide_attempt)\n",
      "5   0.1875                   (risk)\n",
      "6   0.2500        (guyana, suicide)\n",
      "7   0.1875  (risk, suicide_attempt)\n"
     ]
    }
   ],
   "source": [
    "dataset=datasets['C4_clust']\n",
    "itemsets4=get_frequent_itemsets(dataset,min_support=0.13)\n",
    "print(itemsets4)"
   ]
  },
  {
   "cell_type": "markdown",
   "id": "a098c693-6c14-435e-bf9b-3a9ea136f262",
   "metadata": {},
   "source": [
    "##### C5 cluster"
   ]
  },
  {
   "cell_type": "code",
   "execution_count": 35,
   "id": "31db80db-7901-41eb-bfee-3c4a6b99bd47",
   "metadata": {},
   "outputs": [
    {
     "name": "stdout",
     "output_type": "stream",
     "text": [
      "     support                          itemsets\n",
      "0   0.081481                       (lithuania)\n",
      "1   0.303704                       (mortality)\n",
      "2   0.459259                         (suicide)\n",
      "3   0.074074                            (risk)\n",
      "4   0.051852                      (prevention)\n",
      "5   0.103704                      (depression)\n",
      "6   0.125926                     (adolescents)\n",
      "7   0.088889                           (death)\n",
      "8   0.074074                        (children)\n",
      "9   0.118519                          (trends)\n",
      "10  0.081481                    (risk-factors)\n",
      "11  0.133333                           (rates)\n",
      "12  0.051852                    (inequalities)\n",
      "13  0.051852                     (former_ussr)\n",
      "14  0.081481                        (behavior)\n",
      "15  0.074074                      (prevalence)\n",
      "16  0.066667                        (homicide)\n",
      "17  0.111111                         (alcohol)\n",
      "18  0.155556                          (russia)\n",
      "19  0.074074                         (belarus)\n",
      "20  0.051852                         (quality)\n",
      "21  0.059259                     (consumption)\n",
      "22  0.111111                    (epidemiology)\n",
      "23  0.155556              (suicide, mortality)\n",
      "24  0.051852             (suicide, depression)\n",
      "25  0.074074            (suicide, adolescents)\n",
      "26  0.074074                  (suicide, death)\n",
      "27  0.074074           (children, adolescents)\n",
      "28  0.051852               (children, suicide)\n",
      "29  0.051852  (children, suicide, adolescents)\n",
      "30  0.051852                 (suicide, trends)\n",
      "31  0.066667               (trends, mortality)\n",
      "32  0.051852                (rates, mortality)\n",
      "33  0.066667                  (rates, suicide)\n",
      "34  0.059259               (suicide, homicide)\n",
      "35  0.059259                (suicide, alcohol)\n",
      "36  0.081481              (mortality, alcohol)\n",
      "37  0.074074                 (russia, alcohol)\n",
      "38  0.066667      (russia, mortality, alcohol)\n",
      "39  0.103704               (russia, mortality)\n",
      "40  0.066667                 (suicide, russia)\n",
      "41  0.051852                 (belarus, russia)\n",
      "42  0.051852              (belarus, mortality)\n",
      "43  0.051852              (quality, mortality)\n"
     ]
    }
   ],
   "source": [
    "dataset=datasets['C5_clust']\n",
    "itemsets=get_frequent_itemsets(dataset,min_support=0.05)\n",
    "print(itemsets)"
   ]
  },
  {
   "cell_type": "markdown",
   "id": "5bcd7f72-2771-4723-906a-482c1c5bd82a",
   "metadata": {},
   "source": [
    "##### C6 cluster"
   ]
  },
  {
   "cell_type": "code",
   "execution_count": 37,
   "id": "c5497877-3e12-4011-a9dd-77c141958cb0",
   "metadata": {},
   "outputs": [
    {
     "name": "stdout",
     "output_type": "stream",
     "text": [
      "     support               itemsets\n",
      "0   0.089109                (rates)\n",
      "1   0.071287                (death)\n",
      "2   0.068647               (trends)\n",
      "3   0.386139              (suicide)\n",
      "4   0.091749         (risk-factors)\n",
      "5   0.090429         (epidemiology)\n",
      "6   0.149175            (mortality)\n",
      "7   0.058086               (health)\n",
      "8   0.089109             (behavior)\n",
      "9   0.052805        (united-states)\n",
      "10  0.118812                 (risk)\n",
      "11  0.058086            (disorders)\n",
      "12  0.050165             (ideation)\n",
      "13  0.074587           (prevention)\n",
      "14  0.068647           (euthanasia)\n",
      "15  0.069967           (prevalence)\n",
      "16  0.122112           (depression)\n",
      "17  0.080528              (finland)\n",
      "18  0.077228   (suicide, mortality)\n",
      "19  0.052805        (risk, suicide)\n",
      "20  0.050825  (suicide, depression)\n"
     ]
    }
   ],
   "source": [
    "dataset=datasets['C6_clust']\n",
    "itemsets=get_frequent_itemsets(dataset,min_support=0.05)\n",
    "print(itemsets)"
   ]
  },
  {
   "cell_type": "markdown",
   "id": "d5f61487-1735-4f59-a287-5d54e44e4695",
   "metadata": {},
   "source": [
    "##### C7 cluster"
   ]
  },
  {
   "cell_type": "code",
   "execution_count": 38,
   "id": "3960f3bf-2256-4b32-8c92-377847b9503b",
   "metadata": {},
   "outputs": [
    {
     "name": "stdout",
     "output_type": "stream",
     "text": [
      "     support                  itemsets\n",
      "0   0.425575                 (suicide)\n",
      "1   0.056012                   (death)\n",
      "2   0.152187              (depression)\n",
      "3   0.127756               (mortality)\n",
      "4   0.078060              (prevention)\n",
      "5   0.068764            (epidemiology)\n",
      "6   0.052675                  (trends)\n",
      "7   0.118937            (risk-factors)\n",
      "8   0.094268                (behavior)\n",
      "9   0.070671             (adolescents)\n",
      "10  0.135264                    (risk)\n",
      "11  0.078775                  (health)\n",
      "12  0.052199                (children)\n",
      "13  0.057562               (disorders)\n",
      "14  0.085330                   (rates)\n",
      "15  0.067930           (mental-health)\n",
      "16  0.064951                (ideation)\n",
      "17  0.106424              (prevalence)\n",
      "18  0.213801           (united-states)\n",
      "19  0.072220     (suicide, depression)\n",
      "20  0.067453      (suicide, mortality)\n",
      "21  0.065308           (risk, suicide)\n",
      "22  0.083542  (suicide, united-states)\n"
     ]
    }
   ],
   "source": [
    "dataset=datasets['C7_clust']\n",
    "itemsets=get_frequent_itemsets(dataset,min_support=0.05)\n",
    "print(itemsets)"
   ]
  },
  {
   "cell_type": "markdown",
   "id": "cf088554-08df-486c-9452-eaf7cdc68cf0",
   "metadata": {},
   "source": [
    "##### C8 cluster"
   ]
  },
  {
   "cell_type": "code",
   "execution_count": 39,
   "id": "cafaf320-379a-485c-9079-3e8da27b038e",
   "metadata": {},
   "outputs": [
    {
     "name": "stdout",
     "output_type": "stream",
     "text": [
      "     support                      itemsets\n",
      "0   0.364764                     (suicide)\n",
      "1   0.107010                   (mortality)\n",
      "2   0.102667                       (rates)\n",
      "3   0.058002                      (trends)\n",
      "4   0.093362                  (euthanasia)\n",
      "5   0.109801                        (risk)\n",
      "6   0.069479                  (prevention)\n",
      "7   0.092742                    (behavior)\n",
      "8   0.059243                   (attitudes)\n",
      "9   0.165943                  (depression)\n",
      "10  0.132444                  (prevalence)\n",
      "11  0.066687                (epidemiology)\n",
      "12  0.142060                (risk-factors)\n",
      "13  0.065136               (mental-health)\n",
      "14  0.062035                       (death)\n",
      "15  0.070409                 (adolescents)\n",
      "16  0.093983                    (ideation)\n",
      "17  0.073201                      (health)\n",
      "18  0.053970                   (disorders)\n",
      "19  0.052419                      (gender)\n",
      "20  0.092742                 (netherlands)\n",
      "21  0.055521  (physician-assisted_suicide)\n",
      "22  0.107940                       (china)\n",
      "23  0.057382          (suicide, mortality)\n",
      "24  0.056452              (rates, suicide)\n",
      "25  0.061725         (suicide, depression)\n",
      "26  0.058623       (suicide, risk-factors)\n",
      "27  0.051179     (euthanasia, netherlands)\n",
      "28  0.059553              (china, suicide)\n"
     ]
    }
   ],
   "source": [
    "dataset=datasets['C8_clust']\n",
    "itemsets=get_frequent_itemsets(dataset,min_support=0.05)\n",
    "print(itemsets)"
   ]
  },
  {
   "cell_type": "markdown",
   "id": "22679a43-5294-41c2-9b35-657b8dd55cbf",
   "metadata": {},
   "source": [
    "##### C9 cluster"
   ]
  },
  {
   "cell_type": "code",
   "execution_count": 40,
   "id": "5e78fed9-7f52-4cd7-9fa9-f997c400898b",
   "metadata": {},
   "outputs": [
    {
     "name": "stdout",
     "output_type": "stream",
     "text": [
      "     support                 itemsets\n",
      "0   0.065476           (epidemiology)\n",
      "1   0.418651                (suicide)\n",
      "2   0.119048               (behavior)\n",
      "3   0.115079           (risk-factors)\n",
      "4   0.111111             (prevalence)\n",
      "5   0.063492                  (rates)\n",
      "6   0.061508                 (health)\n",
      "7   0.128968             (depression)\n",
      "8   0.103175            (adolescents)\n",
      "9   0.097222                   (risk)\n",
      "10  0.083333               (children)\n",
      "11  0.057540               (violence)\n",
      "12  0.101190               (ideation)\n",
      "13  0.053571        (suicide_attempt)\n",
      "14  0.061508                 (gender)\n",
      "15  0.051587                  (death)\n",
      "16  0.073413              (mortality)\n",
      "17  0.148810                 (turkey)\n",
      "18  0.057540                (autopsy)\n",
      "19  0.055556      (suicide, behavior)\n",
      "20  0.055556  (suicide, risk-factors)\n",
      "21  0.059524    (suicide, depression)\n",
      "22  0.067460        (suicide, turkey)\n"
     ]
    }
   ],
   "source": [
    "dataset=datasets['C9_clust']\n",
    "itemsets=get_frequent_itemsets(dataset,min_support=0.05)\n",
    "print(itemsets)"
   ]
  },
  {
   "cell_type": "markdown",
   "id": "296ca854-dbb0-4e80-8f2d-c6465894ae05",
   "metadata": {},
   "source": [
    "##### C10 cluster"
   ]
  },
  {
   "cell_type": "code",
   "execution_count": 42,
   "id": "57894ec5-8cff-4c2b-a83a-ceddece1a356",
   "metadata": {},
   "outputs": [
    {
     "name": "stdout",
     "output_type": "stream",
     "text": [
      "     support                                  itemsets\n",
      "0   0.146331                              (prevalence)\n",
      "1   0.102389                            (risk-factors)\n",
      "2   0.086604                                (behavior)\n",
      "3   0.050341                                   (rates)\n",
      "4   0.075512                             (adolescents)\n",
      "5   0.072526                           (mental-health)\n",
      "6   0.392918                                 (suicide)\n",
      "7   0.124573                               (mortality)\n",
      "8   0.139932                                    (iraq)\n",
      "9   0.142491                                    (risk)\n",
      "10  0.083618                                (veterans)\n",
      "11  0.057594                                (military)\n",
      "12  0.052474                                    (care)\n",
      "13  0.125853           (posttraumatic-stress-disorder)\n",
      "14  0.093430                                (ideation)\n",
      "15  0.091297                                  (health)\n",
      "16  0.169369                              (depression)\n",
      "17  0.066553                                    (ptsd)\n",
      "18  0.084044                            (epidemiology)\n",
      "19  0.094283                             (afghanistan)\n",
      "20  0.069539                      (suicide, mortality)\n",
      "21  0.053328                           (suicide, iraq)\n",
      "22  0.066553                           (risk, suicide)\n",
      "23  0.057594  (posttraumatic-stress-disorder, suicide)\n",
      "24  0.050768     (posttraumatic-stress-disorder, iraq)\n",
      "25  0.081058                     (suicide, depression)\n",
      "26  0.052048                   (epidemiology, suicide)\n",
      "27  0.065700                       (afghanistan, iraq)\n"
     ]
    }
   ],
   "source": [
    "dataset=datasets['C10_clust']\n",
    "itemsets=get_frequent_itemsets(dataset,min_support=0.05)\n",
    "print(itemsets)"
   ]
  },
  {
   "cell_type": "code",
   "execution_count": null,
   "id": "3fa984b2-ef12-44cc-b876-41e8fc2fdca7",
   "metadata": {},
   "outputs": [],
   "source": [
    "### Create "
   ]
  },
  {
   "cell_type": "code",
   "execution_count": 93,
   "id": "9228795d-c0f1-44f1-bff3-d421e6c2b128",
   "metadata": {},
   "outputs": [],
   "source": [
    "# list of dataframes\n",
    "dataframes=[]\n",
    "\n",
    "# create a dataframe for all clusters\n",
    "for cluster in ['C2', 'C5', 'C6', 'C7', 'C8', 'C9', 'C10']:\n",
    "    cluster_key=cluster+'_clust'\n",
    "    dataset=datasets[cluster_key]\n",
    "    itemsets=get_frequent_itemsets(dataset,min_support=0.05)\n",
    "    itemsets['cluster']=cluster\n",
    "    dataframes.append(itemsets)\n",
    "    "
   ]
  },
  {
   "cell_type": "code",
   "execution_count": 94,
   "id": "97f15bc7-1b44-4320-ac69-e675f2be3762",
   "metadata": {},
   "outputs": [
    {
     "data": {
      "text/html": [
       "<div>\n",
       "<style scoped>\n",
       "    .dataframe tbody tr th:only-of-type {\n",
       "        vertical-align: middle;\n",
       "    }\n",
       "\n",
       "    .dataframe tbody tr th {\n",
       "        vertical-align: top;\n",
       "    }\n",
       "\n",
       "    .dataframe thead th {\n",
       "        text-align: right;\n",
       "    }\n",
       "</style>\n",
       "<table border=\"1\" class=\"dataframe\">\n",
       "  <thead>\n",
       "    <tr style=\"text-align: right;\">\n",
       "      <th></th>\n",
       "      <th>support</th>\n",
       "      <th>itemsets</th>\n",
       "      <th>cluster</th>\n",
       "    </tr>\n",
       "  </thead>\n",
       "  <tbody>\n",
       "    <tr>\n",
       "      <th>0</th>\n",
       "      <td>0.5000</td>\n",
       "      <td>(suicide)</td>\n",
       "      <td>C4</td>\n",
       "    </tr>\n",
       "    <tr>\n",
       "      <th>1</th>\n",
       "      <td>0.5000</td>\n",
       "      <td>(guyana)</td>\n",
       "      <td>C4</td>\n",
       "    </tr>\n",
       "    <tr>\n",
       "      <th>2</th>\n",
       "      <td>0.2500</td>\n",
       "      <td>(behavior)</td>\n",
       "      <td>C4</td>\n",
       "    </tr>\n",
       "    <tr>\n",
       "      <th>3</th>\n",
       "      <td>0.1875</td>\n",
       "      <td>(adolescents)</td>\n",
       "      <td>C4</td>\n",
       "    </tr>\n",
       "    <tr>\n",
       "      <th>4</th>\n",
       "      <td>0.1875</td>\n",
       "      <td>(suicide_attempt)</td>\n",
       "      <td>C4</td>\n",
       "    </tr>\n",
       "    <tr>\n",
       "      <th>5</th>\n",
       "      <td>0.1875</td>\n",
       "      <td>(risk)</td>\n",
       "      <td>C4</td>\n",
       "    </tr>\n",
       "    <tr>\n",
       "      <th>6</th>\n",
       "      <td>0.2500</td>\n",
       "      <td>(guyana, suicide)</td>\n",
       "      <td>C4</td>\n",
       "    </tr>\n",
       "    <tr>\n",
       "      <th>7</th>\n",
       "      <td>0.1875</td>\n",
       "      <td>(risk, suicide_attempt)</td>\n",
       "      <td>C4</td>\n",
       "    </tr>\n",
       "  </tbody>\n",
       "</table>\n",
       "</div>"
      ],
      "text/plain": [
       "   support                 itemsets cluster\n",
       "0   0.5000                (suicide)      C4\n",
       "1   0.5000                 (guyana)      C4\n",
       "2   0.2500               (behavior)      C4\n",
       "3   0.1875            (adolescents)      C4\n",
       "4   0.1875        (suicide_attempt)      C4\n",
       "5   0.1875                   (risk)      C4\n",
       "6   0.2500        (guyana, suicide)      C4\n",
       "7   0.1875  (risk, suicide_attempt)      C4"
      ]
     },
     "execution_count": 94,
     "metadata": {},
     "output_type": "execute_result"
    }
   ],
   "source": [
    "itemsets4['cluster']='C4'\n",
    "itemsets4"
   ]
  },
  {
   "cell_type": "code",
   "execution_count": 95,
   "id": "48abc8eb-0648-4a87-903d-3abb6810646a",
   "metadata": {},
   "outputs": [],
   "source": [
    "dataframes.append(itemsets4)"
   ]
  },
  {
   "cell_type": "code",
   "execution_count": 96,
   "id": "48f81a08-f11f-4cd0-a17b-cf32aeab531f",
   "metadata": {},
   "outputs": [
    {
     "data": {
      "text/html": [
       "<div>\n",
       "<style scoped>\n",
       "    .dataframe tbody tr th:only-of-type {\n",
       "        vertical-align: middle;\n",
       "    }\n",
       "\n",
       "    .dataframe tbody tr th {\n",
       "        vertical-align: top;\n",
       "    }\n",
       "\n",
       "    .dataframe thead th {\n",
       "        text-align: right;\n",
       "    }\n",
       "</style>\n",
       "<table border=\"1\" class=\"dataframe\">\n",
       "  <thead>\n",
       "    <tr style=\"text-align: right;\">\n",
       "      <th></th>\n",
       "      <th>support</th>\n",
       "      <th>itemsets</th>\n",
       "      <th>cluster</th>\n",
       "    </tr>\n",
       "  </thead>\n",
       "  <tbody>\n",
       "    <tr>\n",
       "      <th>0</th>\n",
       "      <td>0.390102</td>\n",
       "      <td>(suicide)</td>\n",
       "      <td>C2</td>\n",
       "    </tr>\n",
       "    <tr>\n",
       "      <th>1</th>\n",
       "      <td>0.105531</td>\n",
       "      <td>(risk)</td>\n",
       "      <td>C2</td>\n",
       "    </tr>\n",
       "    <tr>\n",
       "      <th>2</th>\n",
       "      <td>0.094614</td>\n",
       "      <td>(prevalence)</td>\n",
       "      <td>C2</td>\n",
       "    </tr>\n",
       "    <tr>\n",
       "      <th>3</th>\n",
       "      <td>0.061863</td>\n",
       "      <td>(epidemiology)</td>\n",
       "      <td>C2</td>\n",
       "    </tr>\n",
       "    <tr>\n",
       "      <th>4</th>\n",
       "      <td>0.096798</td>\n",
       "      <td>(rates)</td>\n",
       "      <td>C2</td>\n",
       "    </tr>\n",
       "    <tr>\n",
       "      <th>...</th>\n",
       "      <td>...</td>\n",
       "      <td>...</td>\n",
       "      <td>...</td>\n",
       "    </tr>\n",
       "    <tr>\n",
       "      <th>3</th>\n",
       "      <td>0.187500</td>\n",
       "      <td>(adolescents)</td>\n",
       "      <td>C4</td>\n",
       "    </tr>\n",
       "    <tr>\n",
       "      <th>4</th>\n",
       "      <td>0.187500</td>\n",
       "      <td>(suicide_attempt)</td>\n",
       "      <td>C4</td>\n",
       "    </tr>\n",
       "    <tr>\n",
       "      <th>5</th>\n",
       "      <td>0.187500</td>\n",
       "      <td>(risk)</td>\n",
       "      <td>C4</td>\n",
       "    </tr>\n",
       "    <tr>\n",
       "      <th>6</th>\n",
       "      <td>0.250000</td>\n",
       "      <td>(guyana, suicide)</td>\n",
       "      <td>C4</td>\n",
       "    </tr>\n",
       "    <tr>\n",
       "      <th>7</th>\n",
       "      <td>0.187500</td>\n",
       "      <td>(risk, suicide_attempt)</td>\n",
       "      <td>C4</td>\n",
       "    </tr>\n",
       "  </tbody>\n",
       "</table>\n",
       "<p>201 rows × 3 columns</p>\n",
       "</div>"
      ],
      "text/plain": [
       "     support                 itemsets cluster\n",
       "0   0.390102                (suicide)      C2\n",
       "1   0.105531                   (risk)      C2\n",
       "2   0.094614             (prevalence)      C2\n",
       "3   0.061863           (epidemiology)      C2\n",
       "4   0.096798                  (rates)      C2\n",
       "..       ...                      ...     ...\n",
       "3   0.187500            (adolescents)      C4\n",
       "4   0.187500        (suicide_attempt)      C4\n",
       "5   0.187500                   (risk)      C4\n",
       "6   0.250000        (guyana, suicide)      C4\n",
       "7   0.187500  (risk, suicide_attempt)      C4\n",
       "\n",
       "[201 rows x 3 columns]"
      ]
     },
     "execution_count": 96,
     "metadata": {},
     "output_type": "execute_result"
    }
   ],
   "source": [
    "df=pd.concat(dataframes)\n",
    "df"
   ]
  },
  {
   "cell_type": "code",
   "execution_count": 97,
   "id": "7d164899-1ba9-410f-889c-0a07212bca9d",
   "metadata": {},
   "outputs": [],
   "source": [
    "def convertTuple(tup):\n",
    "    return ' | '.join([str(x) for x in tup])\n",
    "\n",
    "itemstrings=[]\n",
    "for item in df['itemsets']:\n",
    "    itemstr=convertTuple(item)\n",
    "    #print(itemstr)\n",
    "    itemstrings.append(itemstr)"
   ]
  },
  {
   "cell_type": "code",
   "execution_count": 98,
   "id": "23b17943-f2ee-48e0-8161-789584029157",
   "metadata": {},
   "outputs": [
    {
     "data": {
      "text/html": [
       "<div>\n",
       "<style scoped>\n",
       "    .dataframe tbody tr th:only-of-type {\n",
       "        vertical-align: middle;\n",
       "    }\n",
       "\n",
       "    .dataframe tbody tr th {\n",
       "        vertical-align: top;\n",
       "    }\n",
       "\n",
       "    .dataframe thead th {\n",
       "        text-align: right;\n",
       "    }\n",
       "</style>\n",
       "<table border=\"1\" class=\"dataframe\">\n",
       "  <thead>\n",
       "    <tr style=\"text-align: right;\">\n",
       "      <th></th>\n",
       "      <th>support</th>\n",
       "      <th>cluster</th>\n",
       "      <th>items</th>\n",
       "    </tr>\n",
       "  </thead>\n",
       "  <tbody>\n",
       "    <tr>\n",
       "      <th>0</th>\n",
       "      <td>0.390102</td>\n",
       "      <td>C2</td>\n",
       "      <td>suicide</td>\n",
       "    </tr>\n",
       "    <tr>\n",
       "      <th>1</th>\n",
       "      <td>0.105531</td>\n",
       "      <td>C2</td>\n",
       "      <td>risk</td>\n",
       "    </tr>\n",
       "    <tr>\n",
       "      <th>2</th>\n",
       "      <td>0.094614</td>\n",
       "      <td>C2</td>\n",
       "      <td>prevalence</td>\n",
       "    </tr>\n",
       "    <tr>\n",
       "      <th>3</th>\n",
       "      <td>0.061863</td>\n",
       "      <td>C2</td>\n",
       "      <td>epidemiology</td>\n",
       "    </tr>\n",
       "    <tr>\n",
       "      <th>4</th>\n",
       "      <td>0.096798</td>\n",
       "      <td>C2</td>\n",
       "      <td>rates</td>\n",
       "    </tr>\n",
       "    <tr>\n",
       "      <th>...</th>\n",
       "      <td>...</td>\n",
       "      <td>...</td>\n",
       "      <td>...</td>\n",
       "    </tr>\n",
       "    <tr>\n",
       "      <th>3</th>\n",
       "      <td>0.187500</td>\n",
       "      <td>C4</td>\n",
       "      <td>adolescents</td>\n",
       "    </tr>\n",
       "    <tr>\n",
       "      <th>4</th>\n",
       "      <td>0.187500</td>\n",
       "      <td>C4</td>\n",
       "      <td>suicide_attempt</td>\n",
       "    </tr>\n",
       "    <tr>\n",
       "      <th>5</th>\n",
       "      <td>0.187500</td>\n",
       "      <td>C4</td>\n",
       "      <td>risk</td>\n",
       "    </tr>\n",
       "    <tr>\n",
       "      <th>6</th>\n",
       "      <td>0.250000</td>\n",
       "      <td>C4</td>\n",
       "      <td>guyana | suicide</td>\n",
       "    </tr>\n",
       "    <tr>\n",
       "      <th>7</th>\n",
       "      <td>0.187500</td>\n",
       "      <td>C4</td>\n",
       "      <td>risk | suicide_attempt</td>\n",
       "    </tr>\n",
       "  </tbody>\n",
       "</table>\n",
       "<p>201 rows × 3 columns</p>\n",
       "</div>"
      ],
      "text/plain": [
       "     support cluster                   items\n",
       "0   0.390102      C2                 suicide\n",
       "1   0.105531      C2                    risk\n",
       "2   0.094614      C2              prevalence\n",
       "3   0.061863      C2            epidemiology\n",
       "4   0.096798      C2                   rates\n",
       "..       ...     ...                     ...\n",
       "3   0.187500      C4             adolescents\n",
       "4   0.187500      C4         suicide_attempt\n",
       "5   0.187500      C4                    risk\n",
       "6   0.250000      C4        guyana | suicide\n",
       "7   0.187500      C4  risk | suicide_attempt\n",
       "\n",
       "[201 rows x 3 columns]"
      ]
     },
     "execution_count": 98,
     "metadata": {},
     "output_type": "execute_result"
    }
   ],
   "source": [
    "df['items']=itemstrings\n",
    "df.drop(columns='itemsets', inplace=True)\n",
    "df"
   ]
  },
  {
   "cell_type": "code",
   "execution_count": 99,
   "id": "bd1c154e-3758-4fac-9b6d-2b89bc20fda9",
   "metadata": {
    "scrolled": true
   },
   "outputs": [
    {
     "name": "stdout",
     "output_type": "stream",
     "text": [
      "                      node property\n",
      "0                       C2  cluster\n",
      "1                       C5  cluster\n",
      "2                       C6  cluster\n",
      "3                       C7  cluster\n",
      "4                       C8  cluster\n",
      "..                     ...      ...\n",
      "80  epidemiology | suicide  keyword\n",
      "81      afghanistan | iraq  keyword\n",
      "82                  guyana  keyword\n",
      "83        guyana | suicide  keyword\n",
      "84  risk | suicide_attempt  keyword\n",
      "\n",
      "[93 rows x 2 columns]\n"
     ]
    }
   ],
   "source": [
    "node_items=pd.DataFrame({'node': pd.unique(df['items']) })\n",
    "node_items['property']='keyword'\n",
    "\n",
    "cluster_items=pd.DataFrame({'node':pd.unique(df['cluster']) })\n",
    "cluster_items['property']='cluster'\n",
    "\n",
    "df_node=pd.concat([cluster_items, node_items])\n",
    "print(df_node)"
   ]
  },
  {
   "cell_type": "code",
   "execution_count": 100,
   "id": "4305c2b9-3503-47a5-a7a6-9dc0dbdfe0c8",
   "metadata": {},
   "outputs": [],
   "source": [
    "#save this dataframe and node table to visualize as network\n",
    "df.to_csv(\"clusters_itemsets_net.csv\",index=False)\n",
    "df_node.to_csv(\"clusters_itemsets_nodes.csv\",index=False)"
   ]
  }
 ],
 "metadata": {
  "kernelspec": {
   "display_name": "Python 3 (ipykernel)",
   "language": "python",
   "name": "python3"
  },
  "language_info": {
   "codemirror_mode": {
    "name": "ipython",
    "version": 3
   },
   "file_extension": ".py",
   "mimetype": "text/x-python",
   "name": "python",
   "nbconvert_exporter": "python",
   "pygments_lexer": "ipython3",
   "version": "3.11.6"
  }
 },
 "nbformat": 4,
 "nbformat_minor": 5
}
