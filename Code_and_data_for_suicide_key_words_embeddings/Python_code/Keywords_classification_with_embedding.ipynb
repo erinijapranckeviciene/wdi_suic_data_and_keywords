{
 "cells": [
  {
   "cell_type": "markdown",
   "id": "41375591-b8c2-4b9f-997b-2156eb71c126",
   "metadata": {},
   "source": [
    "# Keyword classification : high , medium and low suicide rate countries\n",
    "\n",
    "#### Use word embedding and explore semantic gradienr"
   ]
  },
  {
   "cell_type": "markdown",
   "id": "3b4fb87b-6c66-475f-a1f9-2be95ffc6686",
   "metadata": {
    "jp-MarkdownHeadingCollapsed": true
   },
   "source": [
    "## Insight  1:\n",
    "\n",
    "#### "
   ]
  },
  {
   "cell_type": "markdown",
   "id": "830da14c-1343-4dcc-a507-83426e4651a0",
   "metadata": {},
   "source": [
    "## Insight 2:\n",
    "\n"
   ]
  },
  {
   "cell_type": "markdown",
   "id": "e779907c-2969-4cde-aaac-8cb9bd78e295",
   "metadata": {},
   "source": [
    "## Prepare Keywords data"
   ]
  },
  {
   "cell_type": "code",
   "execution_count": 1,
   "id": "71a7ee70-e2cc-43d9-bbcf-fb4147f3c0c2",
   "metadata": {},
   "outputs": [
    {
     "name": "stderr",
     "output_type": "stream",
     "text": [
      "2024-02-10 21:28:18.416360: E external/local_xla/xla/stream_executor/cuda/cuda_dnn.cc:9261] Unable to register cuDNN factory: Attempting to register factory for plugin cuDNN when one has already been registered\n",
      "2024-02-10 21:28:18.416469: E external/local_xla/xla/stream_executor/cuda/cuda_fft.cc:607] Unable to register cuFFT factory: Attempting to register factory for plugin cuFFT when one has already been registered\n",
      "2024-02-10 21:28:18.460777: E external/local_xla/xla/stream_executor/cuda/cuda_blas.cc:1515] Unable to register cuBLAS factory: Attempting to register factory for plugin cuBLAS when one has already been registered\n",
      "2024-02-10 21:28:18.551533: I tensorflow/core/platform/cpu_feature_guard.cc:182] This TensorFlow binary is optimized to use available CPU instructions in performance-critical operations.\n",
      "To enable the following instructions: AVX2 FMA, in other operations, rebuild TensorFlow with the appropriate compiler flags.\n",
      "2024-02-10 21:28:19.585429: W tensorflow/compiler/tf2tensorrt/utils/py_utils.cc:38] TF-TRT Warning: Could not find TensorRT\n"
     ]
    },
    {
     "name": "stdout",
     "output_type": "stream",
     "text": [
      "Found 29043 files belonging to 8 classes.\n"
     ]
    },
    {
     "name": "stderr",
     "output_type": "stream",
     "text": [
      "2024-02-10 21:28:22.010423: E external/local_xla/xla/stream_executor/cuda/cuda_driver.cc:274] failed call to cuInit: CUDA_ERROR_UNKNOWN: unknown error\n",
      "2024-02-10 21:28:22.010451: I external/local_xla/xla/stream_executor/cuda/cuda_diagnostics.cc:129] retrieving CUDA diagnostic information for host: Erin\n",
      "2024-02-10 21:28:22.010458: I external/local_xla/xla/stream_executor/cuda/cuda_diagnostics.cc:136] hostname: Erin\n",
      "2024-02-10 21:28:22.010566: I external/local_xla/xla/stream_executor/cuda/cuda_diagnostics.cc:159] libcuda reported version is: 535.154.5\n",
      "2024-02-10 21:28:22.010585: I external/local_xla/xla/stream_executor/cuda/cuda_diagnostics.cc:163] kernel reported version is: 535.154.5\n",
      "2024-02-10 21:28:22.010590: I external/local_xla/xla/stream_executor/cuda/cuda_diagnostics.cc:241] kernel version seems to match DSO: 535.154.5\n"
     ]
    }
   ],
   "source": [
    "import os, pathlib, shutil, random\n",
    "import tensorflow as tf\n",
    "from tensorflow import keras\n",
    "\n",
    "batch_size = 100\n",
    "train_ds = keras.utils.text_dataset_from_directory(\"kwdsuic/kwd_per_paper/train\", batch_size=batch_size, label_mode=\"categorical\", shuffle=True,\n",
    "                                                  labels=\"inferred\", class_names=[\"C2\",\"C4\",\"C5\",\"C6\",\"C7\",\"C8\",\"C9\",\"C10\"] )\n",
    "\n",
    "#val_ds = keras.utils.text_dataset_from_directory(\"kwdsuic/train\", batch_size=batch_size, label_mode=\"categorical\")\n",
    "#test_ds = keras.utils.text_dataset_from_directory(\"kwdsuic/train\", batch_size=batch_size, label_mode=\"categorical\")"
   ]
  },
  {
   "cell_type": "markdown",
   "id": "95a74a99-e19c-40a0-8ca0-1e71711319b5",
   "metadata": {},
   "source": [
    "#### Inspect the dataset read from directory files \n",
    "Displaying the shapes and dtypes of the first batch"
   ]
  },
  {
   "cell_type": "code",
   "execution_count": 2,
   "id": "87d94172-d37b-45d0-b9be-81f1d488fa97",
   "metadata": {},
   "outputs": [
    {
     "name": "stdout",
     "output_type": "stream",
     "text": [
      "inputs.shape: (100,)\n",
      "inputs.dtype: <dtype: 'string'>\n",
      "targets.shape: (100, 8)\n",
      "targets.dtype: <dtype: 'float32'>\n",
      "inputs[0]: tf.Tensor(b'personal_decisions young_adult_deaths teenager_deaths proactivedecisions', shape=(), dtype=string)\n",
      "targets[0]: tf.Tensor([0. 0. 0. 0. 1. 0. 0. 0.], shape=(8,), dtype=float32)\n"
     ]
    }
   ],
   "source": [
    "for inputs, targets in train_ds:\n",
    "    print(\"inputs.shape:\", inputs.shape)\n",
    "    print(\"inputs.dtype:\", inputs.dtype)\n",
    "    print(\"targets.shape:\", targets.shape)\n",
    "    print(\"targets.dtype:\", targets.dtype)\n",
    "    print(\"inputs[0]:\", inputs[0])\n",
    "    print(\"targets[0]:\", targets[0])\n",
    "    break"
   ]
  },
  {
   "cell_type": "markdown",
   "id": "67cf5dac-c429-480a-9545-7d20d1f3bfb9",
   "metadata": {},
   "source": [
    "#### Keep only text in text_only_train_ds. Use only text data. "
   ]
  },
  {
   "cell_type": "code",
   "execution_count": 3,
   "id": "c1f00f27-1536-48d0-b944-c749a0433e1a",
   "metadata": {},
   "outputs": [
    {
     "name": "stdout",
     "output_type": "stream",
     "text": [
      "inputs.shape: (100,)\n",
      "inputs.dtype: <dtype: 'string'>\n",
      "inputs[0]: tf.Tensor(b'parental_migration difficulties_questionnaire psychosocial_health strengths china moldova', shape=(), dtype=string)\n"
     ]
    }
   ],
   "source": [
    "# This function returns only data part without target \n",
    "# to create a new dataset that will be used to create dictionary\n",
    "text_only_train_ds = train_ds.map(lambda x, y: x)\n",
    "for inputs in text_only_train_ds:\n",
    "    print(\"inputs.shape:\", inputs.shape)\n",
    "    print(\"inputs.dtype:\", inputs.dtype)\n",
    "    print(\"inputs[0]:\", inputs[0])\n",
    "    break\n"
   ]
  },
  {
   "cell_type": "markdown",
   "id": "8725961c-03a2-4a50-bb98-857d94de95d2",
   "metadata": {},
   "source": [
    "# Classification into clusters using a learned word embedding layer"
   ]
  },
  {
   "cell_type": "markdown",
   "id": "844e385c-65b1-4ada-bdbb-559ebf14ecbb",
   "metadata": {},
   "source": [
    "## Keyword sequences must be transformmed into sequences of indices of the vocabulary words to use embedding\n",
    "To use embedding we need fixed sequence length. Therefore, it is better and more interesting to have keywords from separate papers separately in this case. Each country must have country_article_no.txt. For this dataset was transformed. \n",
    "\n",
    "##### Later try to classify countries ."
   ]
  },
  {
   "cell_type": "code",
   "execution_count": 4,
   "id": "1fd9989f-b9a8-46c8-b6f6-0298f4f756f0",
   "metadata": {},
   "outputs": [],
   "source": [
    "import tensorflow as tf\n",
    "from tensorflow.keras import layers\n",
    "\n",
    "# max length of keywords sequence\n",
    "max_length = 30 \n",
    "# max length of the vocabulary\n",
    "max_tokens = 30000\n",
    "\n",
    "# create text vectorization layer in which words in training data set are encoded as indices in the vocabulary\n",
    "text_vectorization = layers.TextVectorization( max_tokens=max_tokens, output_mode=\"int\", \n",
    "                                              output_sequence_length=max_length, standardize=None)\n",
    "\n",
    "# Create vocabulary\n",
    "text_vectorization.adapt(text_only_train_ds)\n",
    "\n",
    "# Create data sets - in our case all datasets are the same \n",
    "int_train_ds = train_ds.map(lambda x, y: (text_vectorization(x), y), num_parallel_calls=4)\n",
    "int_val_ds = train_ds.map(lambda x, y: (text_vectorization(x), y), num_parallel_calls=4)\n",
    "int_test_ds = train_ds.map(lambda x, y: (text_vectorization(x), y), num_parallel_calls=4)"
   ]
  },
  {
   "cell_type": "markdown",
   "id": "600c92ac-67fb-4748-a8a9-99e7bcbc08ff",
   "metadata": {},
   "source": [
    "#### This code shows how inputs and targets look like"
   ]
  },
  {
   "cell_type": "code",
   "execution_count": 5,
   "id": "c5e159f4-82f5-4552-aa93-ef84fdad4af1",
   "metadata": {},
   "outputs": [
    {
     "name": "stdout",
     "output_type": "stream",
     "text": [
      "(100, 30)\n",
      "tf.Tensor(\n",
      "[    3   349     2  4249 21506     0     0     0     0     0     0     0\n",
      "     0     0     0     0     0     0     0     0     0     0     0     0\n",
      "     0     0     0     0     0     0], shape=(30,), dtype=int64)\n",
      "tf.Tensor([0. 0. 0. 1. 0. 0. 0. 0.], shape=(8,), dtype=float32)\n"
     ]
    }
   ],
   "source": [
    "for inputs, targets in int_train_ds:\n",
    "    print(inputs.shape)\n",
    "    print(inputs[0])\n",
    "    print(targets[0])\n",
    "    # With this test_input variable verify tf.one_hot() transformation\n",
    "    test_input=inputs[0]\n",
    "    break"
   ]
  },
  {
   "cell_type": "markdown",
   "id": "c1805e93-ebc3-48fd-83bd-e03de5c4a480",
   "metadata": {},
   "source": [
    "#### This is to show how to retrieve a vocabulary"
   ]
  },
  {
   "cell_type": "code",
   "execution_count": 6,
   "id": "59e3f4a1-12c8-42b2-8980-2bacc6fc81a4",
   "metadata": {},
   "outputs": [
    {
     "name": "stdout",
     "output_type": "stream",
     "text": [
      "physician_assisted_suicide\n",
      "assisted_suicide\n",
      "assisted_dying\n",
      "physician_assisted_death\n",
      "assisted_death\n",
      "assistedsuicide\n",
      "assisted\n",
      "physician_assistedsuicide\n",
      "physician_assisted_dying\n",
      "suicide,_assisted\n",
      "suicide,assisted\n",
      "physician_assisted_suicide_(pas)\n",
      "assisted_suicide_in_california\n",
      "suicide/assisted_suicide\n",
      "physicianassisted_suicide\n",
      "physician_assisteddeath\n",
      "physician_assisted_deaths\n",
      "death,_assisted\n",
      "assisted_suicideeuthanasia\n",
      "assisted_reproductive_technology\n",
      "assisted_pilot_suicides\n",
      "voluntary_assisted_dying\n",
      "voluntary_assisted\n",
      "vehicle_assisted_suicide\n",
      "unassisted_suicide\n",
      "suicide_assisted\n",
      "pilot_aircraft_assisted_suicide\n",
      "physician_assisted_suicide_travel\n",
      "non_physician_assisted_suicide\n",
      "motor_vehicle_assisted_suicide\n",
      "medication_assisted_treatment_foropioid_dependence\n",
      "medication_assisted_treatment\n",
      "medically_assisteddeath\n",
      "medically_assisted_suicide\n",
      "manual_assisted_cognitivetherapy\n",
      "legal_physician_assisted_dying\n",
      "law_enforcement_assisted_suicide\n",
      "family_assisted_suicide\n",
      "doctor_assisted_death\n",
      "death_assisted\n",
      "ban_of_assisted_suicide_organisations\n",
      "aviation_assisted_suicide\n",
      "assistedreproduction\n",
      "assisteddying\n",
      "assisted_treatment\n",
      "assisted_reproduction\n",
      "assisted_dying_legislation_in_victoria\n",
      "assisted_dying_bill\n",
      "animal_assisted_activities\n",
      "aircraft_assisted_pilot_suicide\n",
      "aid_in_dying/assisted_suicide\n",
      "affordable_assisted_reproduction_treatment\n",
      "3,4_methylenedioxymethamphetamine_assistedpsychotherapy\n",
      "25510\n"
     ]
    }
   ],
   "source": [
    "vc=text_vectorization.get_vocabulary()\n",
    "for tg in vc:\n",
    "    if 'assisted' in tg:\n",
    "        print(tg)\n",
    "\n",
    "print(len(vc))"
   ]
  },
  {
   "cell_type": "markdown",
   "id": "3c4321d6-0aad-43ea-b4e7-dd40c65c8d13",
   "metadata": {},
   "source": [
    "#### Use Enbedding layer to encode words , to represent each word by a semantic gradient \n",
    "The keywords will be treated as sequences"
   ]
  },
  {
   "cell_type": "code",
   "execution_count": 7,
   "id": "6e5ae1b7-b150-4e71-b36d-d2a50af015c2",
   "metadata": {},
   "outputs": [
    {
     "name": "stdout",
     "output_type": "stream",
     "text": [
      "Model: \"model\"\n",
      "_________________________________________________________________\n",
      " Layer (type)                Output Shape              Param #   \n",
      "=================================================================\n",
      " input_1 (InputLayer)        [(None, 30)]              0         \n",
      "                                                                 \n",
      " embedded (Embedding)        (None, 30, 300)           7653000   \n",
      "                                                                 \n",
      " bidirectional (Bidirection  (None, 256)               439296    \n",
      " al)                                                             \n",
      "                                                                 \n",
      " dropout (Dropout)           (None, 256)               0         \n",
      "                                                                 \n",
      " dense (Dense)               (None, 8)                 2056      \n",
      "                                                                 \n",
      "=================================================================\n",
      "Total params: 8094352 (30.88 MB)\n",
      "Trainable params: 8094352 (30.88 MB)\n",
      "Non-trainable params: 0 (0.00 Byte)\n",
      "_________________________________________________________________\n"
     ]
    }
   ],
   "source": [
    "vocab_size = len(vc)\n",
    "embed_dim = 300\n",
    "hidden_dim = 100\n",
    "max_length = 30\n",
    "\n",
    "\n",
    "# ignore from FC book Ch.11 Listing 11.22\n",
    "#num_heads = 2\n",
    "#dense_dim = 32\n",
    "\n",
    "inputs = keras.Input(shape=(max_length), dtype=\"int64\")\n",
    "\n",
    "embedded = layers.Embedding(vocab_size, embed_dim, input_length=max_length, name=\"embedded\" )(inputs)\n",
    "\n",
    "x = layers.Bidirectional(layers.LSTM(128))(embedded)\n",
    "#x=layers.LSTM(32)(embedded)\n",
    "#x=layers.Flatten()(embedded)\n",
    "#x = layers.Dense(hidden_dim, activation=\"relu\")(x)\n",
    "#x = layers.Dense(2*hidden_dim, activation=\"relu\")(x)\n",
    "\n",
    "x = layers.Dropout(0.1)(x)\n",
    "outputs = layers.Dense(8, activation=\"softmax\")(x)\n",
    "\n",
    "model = keras.Model(inputs, outputs)\n",
    "\n",
    "# Maybe optimizer could be different? \n",
    "model.compile(optimizer=\"rmsprop\", loss=\"categorical_crossentropy\", metrics=[\"accuracy\"])\n",
    "model.summary()"
   ]
  },
  {
   "cell_type": "code",
   "execution_count": 8,
   "id": "5a543783-1c36-418a-a4fc-3480e34873f4",
   "metadata": {},
   "outputs": [
    {
     "name": "stdout",
     "output_type": "stream",
     "text": [
      "Epoch 1/20\n",
      "291/291 [==============================] - 29s 93ms/step - loss: 1.4339 - accuracy: 0.4981 - val_loss: 1.2825 - val_accuracy: 0.5471\n",
      "Epoch 2/20\n",
      "291/291 [==============================] - 27s 92ms/step - loss: 1.2543 - accuracy: 0.5641 - val_loss: 1.1278 - val_accuracy: 0.6155\n",
      "Epoch 3/20\n",
      "291/291 [==============================] - 28s 95ms/step - loss: 1.1185 - accuracy: 0.6112 - val_loss: 0.9868 - val_accuracy: 0.6558\n",
      "Epoch 4/20\n",
      "291/291 [==============================] - 28s 95ms/step - loss: 1.0118 - accuracy: 0.6483 - val_loss: 0.9073 - val_accuracy: 0.6811\n",
      "Epoch 5/20\n",
      "291/291 [==============================] - 28s 95ms/step - loss: 0.9271 - accuracy: 0.6778 - val_loss: 0.7932 - val_accuracy: 0.7262\n",
      "Epoch 6/20\n",
      "291/291 [==============================] - 27s 93ms/step - loss: 0.8551 - accuracy: 0.6991 - val_loss: 0.7316 - val_accuracy: 0.7448\n",
      "Epoch 7/20\n",
      "291/291 [==============================] - 27s 93ms/step - loss: 0.7999 - accuracy: 0.7169 - val_loss: 0.6880 - val_accuracy: 0.7617\n",
      "Epoch 8/20\n",
      "291/291 [==============================] - 27s 92ms/step - loss: 0.7553 - accuracy: 0.7316 - val_loss: 0.6532 - val_accuracy: 0.7680\n",
      "Epoch 9/20\n",
      "291/291 [==============================] - 27s 93ms/step - loss: 0.7197 - accuracy: 0.7400 - val_loss: 0.6345 - val_accuracy: 0.7722\n",
      "Epoch 10/20\n",
      "291/291 [==============================] - 27s 92ms/step - loss: 0.6873 - accuracy: 0.7481 - val_loss: 0.6115 - val_accuracy: 0.7783\n",
      "Epoch 11/20\n",
      "291/291 [==============================] - 27s 91ms/step - loss: 0.6629 - accuracy: 0.7548 - val_loss: 0.5854 - val_accuracy: 0.7849\n",
      "Epoch 12/20\n",
      "291/291 [==============================] - 27s 92ms/step - loss: 0.6384 - accuracy: 0.7615 - val_loss: 0.5632 - val_accuracy: 0.7896\n",
      "Epoch 13/20\n",
      "291/291 [==============================] - 27s 92ms/step - loss: 0.6198 - accuracy: 0.7655 - val_loss: 0.5505 - val_accuracy: 0.7918\n",
      "Epoch 14/20\n",
      "291/291 [==============================] - 27s 92ms/step - loss: 0.5996 - accuracy: 0.7722 - val_loss: 0.5353 - val_accuracy: 0.7941\n",
      "Epoch 15/20\n",
      "291/291 [==============================] - 27s 94ms/step - loss: 0.5831 - accuracy: 0.7763 - val_loss: 0.5242 - val_accuracy: 0.7976\n",
      "Epoch 16/20\n",
      "291/291 [==============================] - 27s 93ms/step - loss: 0.5705 - accuracy: 0.7778 - val_loss: 0.5302 - val_accuracy: 0.7962\n",
      "Epoch 17/20\n",
      "291/291 [==============================] - 27s 94ms/step - loss: 0.5562 - accuracy: 0.7838 - val_loss: 0.5054 - val_accuracy: 0.8013\n",
      "Epoch 18/20\n",
      "291/291 [==============================] - 27s 93ms/step - loss: 0.5435 - accuracy: 0.7867 - val_loss: 0.4997 - val_accuracy: 0.8046\n",
      "Epoch 19/20\n",
      "291/291 [==============================] - 27s 92ms/step - loss: 0.5348 - accuracy: 0.7903 - val_loss: 0.4818 - val_accuracy: 0.8081\n",
      "Epoch 20/20\n",
      "291/291 [==============================] - 26s 91ms/step - loss: 0.5236 - accuracy: 0.7910 - val_loss: 0.5027 - val_accuracy: 0.8039\n"
     ]
    },
    {
     "data": {
      "text/plain": [
       "<keras.src.callbacks.History at 0x7f19e4618910>"
      ]
     },
     "execution_count": 8,
     "metadata": {},
     "output_type": "execute_result"
    }
   ],
   "source": [
    "callbacks = [ keras.callbacks.ModelCheckpoint(\"int_embedded_lstm.keras\", save_best_only=True) ]\n",
    "model.fit(int_train_ds, validation_data=int_train_ds, epochs=20, verbose=1, callbacks=callbacks)"
   ]
  },
  {
   "cell_type": "code",
   "execution_count": 9,
   "id": "35c81333-bf99-4133-890a-d0f2770655fd",
   "metadata": {},
   "outputs": [
    {
     "name": "stdout",
     "output_type": "stream",
     "text": [
      "291/291 [==============================] - 6s 19ms/step - loss: 0.4818 - accuracy: 0.8081\n",
      "Test acc: 0.808\n"
     ]
    }
   ],
   "source": [
    "model = keras.models.load_model(\"int_embedded_lstm.keras\")\n",
    "print(f\"Test acc: {model.evaluate(int_train_ds)[1]:.3f}\")"
   ]
  },
  {
   "cell_type": "markdown",
   "id": "36ab190c-eecd-4933-97aa-b319a962e408",
   "metadata": {},
   "source": [
    "#### Get the confusion table"
   ]
  },
  {
   "cell_type": "markdown",
   "id": "3ff791ec-a4fb-4eb9-afb3-66fb9cdf6b19",
   "metadata": {},
   "source": [
    "#### Recreate the data set without shuffling\n",
    "This is needed because the dataset batches must not be shuffled in order the targets of samples to correspond to the predicted labels of the same samples.  "
   ]
  },
  {
   "cell_type": "code",
   "execution_count": 10,
   "id": "4ef3d507-ed0e-4dbd-9bcf-c0768aecabea",
   "metadata": {},
   "outputs": [
    {
     "name": "stdout",
     "output_type": "stream",
     "text": [
      "Found 29043 files belonging to 8 classes.\n"
     ]
    }
   ],
   "source": [
    "import os, pathlib, shutil, random\n",
    "import tensorflow as tf\n",
    "from tensorflow import keras\n",
    "\n",
    "batch_size = 100\n",
    "train_ds_for_testing = keras.utils.text_dataset_from_directory(\"kwdsuic/kwd_per_paper/train\", batch_size=batch_size, label_mode=\"categorical\", shuffle=False,\n",
    "                                                  labels=\"inferred\", class_names=[\"C2\",\"C4\",\"C5\",\"C6\",\"C7\",\"C8\",\"C9\",\"C10\"] )\n",
    "\n",
    "#val_ds = keras.utils.text_dataset_from_directory(\"kwdsuic/train\", batch_size=batch_size, label_mode=\"categorical\")\n",
    "#test_ds = keras.utils.text_dataset_from_directory(\"kwdsuic/train\", batch_size=batch_size, label_mode=\"categorical\")"
   ]
  },
  {
   "cell_type": "markdown",
   "id": "262fbea2-a5f7-49e7-a58a-ba17e7c3b4aa",
   "metadata": {},
   "source": [
    "#### Transform textual data set into "
   ]
  },
  {
   "cell_type": "code",
   "execution_count": 11,
   "id": "cac853f8-c387-4dd3-91c4-256f5617eb70",
   "metadata": {},
   "outputs": [],
   "source": [
    "int_train_ds_for_testing = train_ds_for_testing.map(lambda x, y: (text_vectorization(x), y), num_parallel_calls=4)"
   ]
  },
  {
   "cell_type": "code",
   "execution_count": 12,
   "id": "503ce97b-78af-4ac0-8b62-854fca808ec8",
   "metadata": {},
   "outputs": [
    {
     "name": "stdout",
     "output_type": "stream",
     "text": [
      "291/291 [==============================] - 6s 19ms/step\n",
      "[[1.2230878e-03 1.4112091e-04 1.3556978e-04 5.9684166e-03 1.3970774e-01\n",
      "  9.9566616e-03 1.4139338e-03 8.4145331e-01]\n",
      " [1.2448329e-03 4.3809760e-05 1.4498719e-04 2.8308446e-02 2.2566082e-01\n",
      "  1.8692160e-02 3.2325005e-04 7.2558171e-01]\n",
      " [1.7422129e-03 1.2399062e-03 3.2549349e-03 1.9594500e-02 2.2273712e-02\n",
      "  6.4255774e-04 7.3575630e-04 9.5051640e-01]]\n",
      "[7 7 7 ... 6 4 6]\n",
      "['C10' 'C10' 'C10' ... 'C9' 'C7' 'C9']\n",
      "29043\n"
     ]
    }
   ],
   "source": [
    "import numpy as np\n",
    "pred=model.predict(int_train_ds_for_testing)\n",
    "print(pred[:3])\n",
    "\n",
    "predicted = pred.argmax(axis=-1)\n",
    "print(predicted)\n",
    "\n",
    "class_names=[\"C2\",\"C4\",\"C5\",\"C6\",\"C7\",\"C8\",\"C9\",\"C10\"]\n",
    "print(np.array(class_names)[predicted])\n",
    "print(len(predicted))"
   ]
  },
  {
   "cell_type": "code",
   "execution_count": 13,
   "id": "23ef409b-60c2-405e-8609-352eedc145b1",
   "metadata": {},
   "outputs": [
    {
     "name": "stdout",
     "output_type": "stream",
     "text": [
      "29043\n"
     ]
    }
   ],
   "source": [
    "import numpy as np\n",
    "# labels from dataset\n",
    "actual = np.argmax(np.concatenate([y for x, y in int_train_ds_for_testing], axis=0), axis=1)\n",
    "print(len(actual) )\n"
   ]
  },
  {
   "cell_type": "code",
   "execution_count": 14,
   "id": "95d87b59-873d-434f-963f-082d65a2ca86",
   "metadata": {},
   "outputs": [],
   "source": [
    "inp=np.concatenate([x for x, y in int_train_ds_for_testing])"
   ]
  },
  {
   "cell_type": "code",
   "execution_count": null,
   "id": "e71bd709-c8dc-4b4a-9cce-fdc717d5c1a7",
   "metadata": {},
   "outputs": [],
   "source": [
    "kwds=[]\n",
    "ind=[]\n",
    "for samp in inp:\n",
    "    i =[x for x in samp if x>0]\n",
    "    w =[vc[x] for x in samp if x>0]\n",
    "    is=' '.join(i)\n",
    "    ws=' '.join(w)\n",
    "    kwds.append(ws)\n",
    "    ind.append(is)\n",
    "    "
   ]
  },
  {
   "cell_type": "code",
   "execution_count": 201,
   "id": "87e812f6-a8a6-4fdf-bb05-098eacfe196c",
   "metadata": {},
   "outputs": [],
   "source": [
    "df=pd.DataFrame({'actual': actual,'predicted':predicted, 'kwds':kwds}) "
   ]
  },
  {
   "cell_type": "code",
   "execution_count": 202,
   "id": "6ff1b28f-aa32-4ec3-a678-b2bc558089f1",
   "metadata": {},
   "outputs": [
    {
     "data": {
      "text/plain": [
       "<bound method NDFrame.head of        actual  predicted                                               kwds\n",
       "0           7          7  [suicide, deliberate_self_harm, self_immolatio...\n",
       "1           7          7             [mental_health, human_rights, tragedy]\n",
       "2           7          7  [posttraumatic_stress_disorder, mental_health_...\n",
       "3           7          7  [female_suicide_bombing, terrorism, counter_te...\n",
       "4           7          7     [women, war, terrorists, gender, media, logic]\n",
       "...       ...        ...                                                ...\n",
       "29038       6          6  [risk_factors, behavior, people, turkey, multi...\n",
       "29039       6          6  [assisted_suicide, euthanasia, health_staff, i...\n",
       "29040       6          6  [physician_assisted_suicide, voluntary_euthana...\n",
       "29041       6          4  [united_states, youth, rates, epidemiology, pr...\n",
       "29042       6          6  [physical_activity, sport_participation, ideat...\n",
       "\n",
       "[29043 rows x 3 columns]>"
      ]
     },
     "execution_count": 202,
     "metadata": {},
     "output_type": "execute_result"
    }
   ],
   "source": [
    "df.head"
   ]
  },
  {
   "cell_type": "code",
   "execution_count": 162,
   "id": "ff016746-9b9c-4002-bd50-683306935f1a",
   "metadata": {},
   "outputs": [
    {
     "name": "stdout",
     "output_type": "stream",
     "text": [
      "[[ 1384     0     9    73   467   283    11    66]\n",
      " [    2     8     2     5     7     0     1     4]\n",
      " [    8     0   143    15    38     8     1     5]\n",
      " [   34     0    10  1691   538   123    19    94]\n",
      " [  104     0    11   271 12525   463    59   473]\n",
      " [  134     0     3   138   887  3924    49   233]\n",
      " [   10     0     4    12   114    46   606    69]\n",
      " [   34     0     2    32   399   116    53  3223]]\n",
      "0.8092827875908136\n"
     ]
    }
   ],
   "source": [
    "# show confusion table\n",
    "# Why confusion table shows different accuracy than accuracy of model evaluate? \n",
    "# Need to investigate, but leaving it for later now. \n",
    "cm=tf.math.confusion_matrix(actual, predicted).numpy()\n",
    "print(cm)\n",
    "acc=sum(np.diagonal(cm))/np.sum(cm)\n",
    "print(acc)"
   ]
  },
  {
   "cell_type": "markdown",
   "id": "49dc112a-6299-4ea8-9b3f-875958bc7532",
   "metadata": {},
   "source": [
    "## Explore the embedding layer\n",
    "The embedding layer dimensions correspond to the words in the vocabulary. The embedding vectors encode words by their semantic context and must have a nice structure where semantically similar words are represented by proximal vectors. Therefore, an expectation is that when we \"umap\" the embedding vectors, we will see clusters that contain semantically similar words in this specific context.   "
   ]
  },
  {
   "cell_type": "code",
   "execution_count": 163,
   "id": "d25f2e13-f5ce-469c-8464-4d627990d12e",
   "metadata": {},
   "outputs": [
    {
     "name": "stdout",
     "output_type": "stream",
     "text": [
      "KerasTensor(type_spec=TensorSpec(shape=(None, 30, 256), dtype=tf.float32, name=None), name='embedded/embedding_lookup/Identity:0', description=\"created by layer 'embedded'\")\n",
      "23787\n",
      "256\n",
      "23788\n",
      "256\n",
      "(25510, 256)\n",
      "25510\n"
     ]
    }
   ],
   "source": [
    "import pandas as pd\n",
    "# how to get the layer\n",
    "l=model.get_layer(\"embedded\").output\n",
    "print(l)\n",
    "w=model.get_layer(\"embedded\").get_weights()\n",
    "for i in range(23787,23789):\n",
    "    print(i)\n",
    "    print(len(w[0][i] ) )\n",
    "wn=w[0]\n",
    "\n",
    "print(wn.shape )\n",
    "\n",
    "#wdf=pd.DataFrame(w)\n",
    "#vc=text_vectorization.get_vocabulary()\n",
    "#for tg in vc:\n",
    "#    print(tg)\n",
    "\n",
    "print(len(vc))"
   ]
  },
  {
   "cell_type": "markdown",
   "id": "7a7afecd-43e9-4426-a201-b516d57265f3",
   "metadata": {},
   "source": [
    "#### UMAP "
   ]
  },
  {
   "cell_type": "code",
   "execution_count": 172,
   "id": "97e53f4f-d865-4de6-9502-df9732977b41",
   "metadata": {},
   "outputs": [
    {
     "name": "stdout",
     "output_type": "stream",
     "text": [
      "(25510, 2)\n"
     ]
    }
   ],
   "source": [
    "import numpy as np\n",
    "from sklearn.preprocessing import StandardScaler\n",
    "import matplotlib.pyplot as plt\n",
    "import seaborn as sns\n",
    "import pandas as pd\n",
    "import umap\n",
    "\n",
    "reducer=umap.UMAP( n_neighbors=25, repulsion_strength=10)\n",
    "#repulsion_strength=10\n",
    "scaled_data = StandardScaler().fit_transform(wn)\n",
    "\n",
    "embedding = reducer.fit_transform(wn)\n",
    "\n",
    "#embedding = reducer.fit_transform(scaled_data)\n",
    "print(embedding.shape)\n",
    "\n"
   ]
  },
  {
   "cell_type": "code",
   "execution_count": 173,
   "id": "1ab2637a-8acf-4734-b0fa-e58b11062b08",
   "metadata": {},
   "outputs": [
    {
     "data": {
      "image/png": "[encoded data removed]",
      "text/plain": [
       "<Figure size 640x480 with 1 Axes>"
      ]
     },
     "metadata": {},
     "output_type": "display_data"
    }
   ],
   "source": [
    "plt.scatter(\n",
    "    embedding[:, 0],\n",
    "    embedding[:, 1])\n",
    "#    c=actual)\n",
    "\n",
    "#c=[sns.color_palette()[x] for x in penguins.species.map({\"Adelie\":0, \"Chinstrap\":1, \"Gentoo\":2})]\n",
    "\n",
    "plt.gca().set_aspect('equal', 'datalim')\n",
    "plt.title('UMAP projection of word embedding', fontsize=24);\n"
   ]
  },
  {
   "cell_type": "markdown",
   "id": "ea46343c-555c-4d89-aac6-547985004c76",
   "metadata": {},
   "source": [
    "#### t-SNE"
   ]
  },
  {
   "cell_type": "code",
   "execution_count": 176,
   "id": "4ea0cde8-48d4-4924-a5af-6e119c88cbac",
   "metadata": {},
   "outputs": [
    {
     "name": "stdout",
     "output_type": "stream",
     "text": [
      "(25510, 2)\n"
     ]
    }
   ],
   "source": [
    "import numpy as np\n",
    "import matplotlib.pyplot as plt\n",
    "import seaborn as sns\n",
    "import pandas as pd\n",
    "from sklearn.manifold import TSNE\n",
    "\n",
    "tsne = TSNE(n_components=2, learning_rate='auto', init='pca', perplexity=40).fit_transform(wn)\n",
    "\n",
    "#embedding = reducer.fit_transform(scaled_data)\n",
    "print(tsne.shape)\n"
   ]
  },
  {
   "cell_type": "code",
   "execution_count": 175,
   "id": "b80b20fc-58d9-4f28-9b00-f8f685ccd984",
   "metadata": {},
   "outputs": [
    {
     "data": {
      "image/png": "[encoded data removed]",
      "text/plain": [
       "<Figure size 640x480 with 1 Axes>"
      ]
     },
     "metadata": {},
     "output_type": "display_data"
    }
   ],
   "source": [
    "plt.scatter(\n",
    "    tsne[:, 0],\n",
    "    tsne[:, 1])\n",
    "#    c=actual)\n",
    "\n",
    "#c=[sns.color_palette()[x] for x in penguins.species.map({\"Adelie\":0, \"Chinstrap\":1, \"Gentoo\":2})]\n",
    "\n",
    "plt.gca().set_aspect('equal', 'datalim')\n",
    "plt.title('t-SNE projection of word embedding', fontsize=24);\n"
   ]
  },
  {
   "cell_type": "markdown",
   "id": "b69d558a-16e0-4cb9-b709-5624b538ef9d",
   "metadata": {},
   "source": [
    "#### What classes the vocabulary words belong to "
   ]
  },
  {
   "cell_type": "code",
   "execution_count": 131,
   "id": "7ff34dd7-d581-4726-ab2c-7f6066f51d08",
   "metadata": {},
   "outputs": [
    {
     "name": "stdout",
     "output_type": "stream",
     "text": [
      "tf.Tensor([1 0 0 0 0 0 0 0 0 0 0 0 0 0 0 0 0 0 0 0 0 0 0 0 0 0 0 0 0 0], shape=(30,), dtype=int32)\n"
     ]
    },
    {
     "ename": "ValueError",
     "evalue": "in user code:\n\n    File \"/home/erin/miniconda3/lib/python3.11/site-packages/keras/src/engine/training.py\", line 2440, in predict_function  *\n        return step_function(self, iterator)\n    File \"/home/erin/miniconda3/lib/python3.11/site-packages/keras/src/engine/training.py\", line 2425, in step_function  **\n        outputs = model.distribute_strategy.run(run_step, args=(data,))\n    File \"/home/erin/miniconda3/lib/python3.11/site-packages/keras/src/engine/training.py\", line 2413, in run_step  **\n        outputs = model.predict_step(data)\n    File \"/home/erin/miniconda3/lib/python3.11/site-packages/keras/src/engine/training.py\", line 2381, in predict_step\n        return self(x, training=False)\n    File \"/home/erin/miniconda3/lib/python3.11/site-packages/keras/src/utils/traceback_utils.py\", line 70, in error_handler\n        raise e.with_traceback(filtered_tb) from None\n    File \"/home/erin/miniconda3/lib/python3.11/site-packages/keras/src/engine/input_spec.py\", line 280, in assert_input_compatibility\n        raise ValueError(\n\n    ValueError: Exception encountered when calling layer 'model_6' (type Functional).\n    \n    Input 0 of layer \"dense_8\" is incompatible with the layer: expected axis -1 of input shape to have value 7680, but received input with shape (None, 256)\n    \n    Call arguments received by layer 'model_6' (type Functional):\n      • inputs=tf.Tensor(shape=(None,), dtype=int32)\n      • training=False\n      • mask=None\n",
     "output_type": "error",
     "traceback": [
      "\u001b[0;31m---------------------------------------------------------------------------\u001b[0m",
      "\u001b[0;31mValueError\u001b[0m                                Traceback (most recent call last)",
      "Cell \u001b[0;32mIn[131], line 5\u001b[0m\n\u001b[1;32m      3\u001b[0m b\u001b[38;5;241m=\u001b[39mtf\u001b[38;5;241m.\u001b[39mconstant(a)\n\u001b[1;32m      4\u001b[0m \u001b[38;5;28mprint\u001b[39m(b)\n\u001b[0;32m----> 5\u001b[0m c\u001b[38;5;241m=\u001b[39m\u001b[43mmodel\u001b[49m\u001b[38;5;241;43m.\u001b[39;49m\u001b[43mpredict\u001b[49m\u001b[43m(\u001b[49m\u001b[43mb\u001b[49m\u001b[43m)\u001b[49m\n\u001b[1;32m      6\u001b[0m \u001b[38;5;28mprint\u001b[39m(c)\n",
      "File \u001b[0;32m~/miniconda3/lib/python3.11/site-packages/keras/src/utils/traceback_utils.py:70\u001b[0m, in \u001b[0;36mfilter_traceback.<locals>.error_handler\u001b[0;34m(*args, **kwargs)\u001b[0m\n\u001b[1;32m     67\u001b[0m     filtered_tb \u001b[38;5;241m=\u001b[39m _process_traceback_frames(e\u001b[38;5;241m.\u001b[39m__traceback__)\n\u001b[1;32m     68\u001b[0m     \u001b[38;5;66;03m# To get the full stack trace, call:\u001b[39;00m\n\u001b[1;32m     69\u001b[0m     \u001b[38;5;66;03m# `tf.debugging.disable_traceback_filtering()`\u001b[39;00m\n\u001b[0;32m---> 70\u001b[0m     \u001b[38;5;28;01mraise\u001b[39;00m e\u001b[38;5;241m.\u001b[39mwith_traceback(filtered_tb) \u001b[38;5;28;01mfrom\u001b[39;00m \u001b[38;5;28;01mNone\u001b[39;00m\n\u001b[1;32m     71\u001b[0m \u001b[38;5;28;01mfinally\u001b[39;00m:\n\u001b[1;32m     72\u001b[0m     \u001b[38;5;28;01mdel\u001b[39;00m filtered_tb\n",
      "File \u001b[0;32m/tmp/__autograph_generated_filewmjbegns.py:15\u001b[0m, in \u001b[0;36mouter_factory.<locals>.inner_factory.<locals>.tf__predict_function\u001b[0;34m(iterator)\u001b[0m\n\u001b[1;32m     13\u001b[0m \u001b[38;5;28;01mtry\u001b[39;00m:\n\u001b[1;32m     14\u001b[0m     do_return \u001b[38;5;241m=\u001b[39m \u001b[38;5;28;01mTrue\u001b[39;00m\n\u001b[0;32m---> 15\u001b[0m     retval_ \u001b[38;5;241m=\u001b[39m ag__\u001b[38;5;241m.\u001b[39mconverted_call(ag__\u001b[38;5;241m.\u001b[39mld(step_function), (ag__\u001b[38;5;241m.\u001b[39mld(\u001b[38;5;28mself\u001b[39m), ag__\u001b[38;5;241m.\u001b[39mld(iterator)), \u001b[38;5;28;01mNone\u001b[39;00m, fscope)\n\u001b[1;32m     16\u001b[0m \u001b[38;5;28;01mexcept\u001b[39;00m:\n\u001b[1;32m     17\u001b[0m     do_return \u001b[38;5;241m=\u001b[39m \u001b[38;5;28;01mFalse\u001b[39;00m\n",
      "\u001b[0;31mValueError\u001b[0m: in user code:\n\n    File \"/home/erin/miniconda3/lib/python3.11/site-packages/keras/src/engine/training.py\", line 2440, in predict_function  *\n        return step_function(self, iterator)\n    File \"/home/erin/miniconda3/lib/python3.11/site-packages/keras/src/engine/training.py\", line 2425, in step_function  **\n        outputs = model.distribute_strategy.run(run_step, args=(data,))\n    File \"/home/erin/miniconda3/lib/python3.11/site-packages/keras/src/engine/training.py\", line 2413, in run_step  **\n        outputs = model.predict_step(data)\n    File \"/home/erin/miniconda3/lib/python3.11/site-packages/keras/src/engine/training.py\", line 2381, in predict_step\n        return self(x, training=False)\n    File \"/home/erin/miniconda3/lib/python3.11/site-packages/keras/src/utils/traceback_utils.py\", line 70, in error_handler\n        raise e.with_traceback(filtered_tb) from None\n    File \"/home/erin/miniconda3/lib/python3.11/site-packages/keras/src/engine/input_spec.py\", line 280, in assert_input_compatibility\n        raise ValueError(\n\n    ValueError: Exception encountered when calling layer 'model_6' (type Functional).\n    \n    Input 0 of layer \"dense_8\" is incompatible with the layer: expected axis -1 of input shape to have value 7680, but received input with shape (None, 256)\n    \n    Call arguments received by layer 'model_6' (type Functional):\n      • inputs=tf.Tensor(shape=(None,), dtype=int32)\n      • training=False\n      • mask=None\n"
     ]
    }
   ],
   "source": [
    "for i in range(1,3):\n",
    "    a=[i]+[0]*29\n",
    "    b=tf.constant(a)\n",
    "    print(b)\n",
    "    c=model.predict(b)\n",
    "    print(c)"
   ]
  },
  {
   "cell_type": "code",
   "execution_count": null,
   "id": "b00fa055-ab55-4eae-b743-aec791795162",
   "metadata": {},
   "outputs": [],
   "source": [
    "import numpy as np\n",
    "\n",
    "for inputs, targets in int_train_ds:\n",
    "    print(inputs.shape)\n",
    "    print(inputs[0])\n",
    "    print(targets[0])\n",
    "    # With this test_input variable verify tf.one_hot() transformation\n",
    "    break\n",
    "p=model.predict(inputs)\n",
    "print(p[0])\n",
    "print(targets[0])\n",
    "\n",
    "for i in range(100):\n",
    "    ind=[x for x in inputs[i].numpy() if x >0]\n",
    "    words=[vc[i] for i in ind]\n",
    "    print(ind)\n",
    "    print(words)\n",
    "    print(np.argmax(p[i]) , np.argmax(targets[i]) )\n",
    "#target= np.argmax(targets, axis=1)"
   ]
  },
  {
   "cell_type": "code",
   "execution_count": null,
   "id": "f7b252ff-999f-442d-a5f0-db1d903f45a1",
   "metadata": {},
   "outputs": [],
   "source": []
  },
  {
   "cell_type": "code",
   "execution_count": null,
   "id": "29e1eeb6-d6fd-4b6d-82fe-9e07a08e8258",
   "metadata": {},
   "outputs": [],
   "source": []
  },
  {
   "cell_type": "code",
   "execution_count": null,
   "id": "6e9a7811-278c-4838-a855-382ff361cf41",
   "metadata": {},
   "outputs": [],
   "source": []
  }
 ],
 "metadata": {
  "kernelspec": {
   "display_name": "Python 3 (ipykernel)",
   "language": "python",
   "name": "python3"
  },
  "language_info": {
   "codemirror_mode": {
    "name": "ipython",
    "version": 3
   },
   "file_extension": ".py",
   "mimetype": "text/x-python",
   "name": "python",
   "nbconvert_exporter": "python",
   "pygments_lexer": "ipython3",
   "version": "3.11.6"
  }
 },
 "nbformat": 4,
 "nbformat_minor": 5
}
